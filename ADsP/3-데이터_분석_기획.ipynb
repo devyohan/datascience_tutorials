{
 "cells": [
  {
   "cell_type": "markdown",
   "metadata": {},
   "source": [
    "## 분석 기획 방향성 도출"
   ]
  },
  {
   "cell_type": "markdown",
   "metadata": {},
   "source": [
    "요약\n",
    "\n",
    "분석 기획이란 실제 분석을 수행하기에 앞서 분석을 수행할 과제의 정의 및 의도했던 결과를 도출할 수 있도록 이를 적절하게 관리할 수 있는 방안을 사전에 계획하는 일련의 작업이다. 분석 과제 및 프로젝트를 직접 수행하는 것은 아니지만, 어떠한 목표(Why)를 달성하기 위하여 어떠한 데이터(What)를 가지고 어떤 방식으로(How) 수행할 지에 대한 일련의 계획을 수립하는 작업이기 때문에 성공적인 분석 결과를 도출하기 위한 중요한 사전 작업이다."
   ]
  },
  {
   "cell_type": "code",
   "execution_count": null,
   "metadata": {
    "collapsed": true
   },
   "outputs": [],
   "source": []
  },
  {
   "cell_type": "code",
   "execution_count": null,
   "metadata": {
    "collapsed": true
   },
   "outputs": [],
   "source": []
  },
  {
   "cell_type": "markdown",
   "metadata": {},
   "source": [
    "### 연습문제로 학습\n",
    "\n",
    "1. 데이터 분석을 통한 가치 발굴에서 필요한 주요 요소들은?\n",
    "- Data\n",
    "- Analytic Model\n",
    "- Analyst\n",
    "\n",
    "2. 분석 기획은 단기적으로는 **의도했던 결과** 를 도출하여 프로젝트화 한 후 관리를 수행하여 분석결과를 도출하는 것이고, 중장기적으로는 **??** 을 수행하여 지속적인 **??** 수행을 지원할 수 있는 거버넌스 체계를 수립하는 것이다.\n",
    "\n",
    "3. 분석가가 가져야 할 **가장** 주요한 역량은?\n",
    "- 문제에 대한 전문성 역량\n",
    "- 수학/통계적 지식 등 분석 역량\n",
    "- 프로그래밍 등 기술 역량\n",
    "- 위 모두\n",
    "\n",
    "4. **??** 는 데이터 분석 단계 모델링 태스크중 모델 적용 및 운영방안 스텝의 주요한 산출물이다.\n",
    "\n",
    "5. 분석 주제 유형 중, 문제를 잘 알고 있으면서 기존에 수행하고 있는 방법이 존재하는 경우에 해당하는 유형은?\n",
    "- Optimization\n",
    "- Solution\n",
    "- Discovery\n",
    "- Insight\n",
    "\n",
    "6. 분석 과제를 도출하기 위한 방식은 문제가 주어진 경우 해법을 찾기 위하여 절차적으로 수행하는 **??** 방식과 문제의 정의 자체가 어려운 경우 데이터를 기반으로 탐색하고 이를 지속적으로 개선해나가는 방식인 **??** 로 분류된다.\n",
    "\n",
    "7. 비즈니스 모델 캔버스를 활용한 분석 기회 발굴 시에 탐색하는 주요 영역이 아닌 것은?\n",
    "\n",
    "8. 예상치 않은 설비장애로 인한 판매량 감소 라는 비즈니스 문제를 분석 문제로 변환하여 기입하시오.\n",
    "\n",
    "9. 분석 프로젝트는 IT 프로젝트와 달리, 앞서 분석 방법론에서 살펴본 **??** 방식 같은 초기 의도했던 결과에 안정적인 이관을 수행하는 것이 아니라, 도출된 결과의 재해석을 통한 지속적인 반복 및 정교화가 수행되는 경우가 대부분이므로 프로토타이핑 방식의 **??** 프로젝트 관리방식에 대한 고려도 필요하다.\n",
    "\n",
    "10. 분석 프로젝트 수행 시 'Data, Business, 분석 등 다양한 영역의 사람들이 프로젝트에 참여하며, Project Sponsor 및 향후 분석 결과를 활용할 User 등 다양한 사람들의 요구를 고려해야 한다' 라는 관리 포인트에 대한 부분을 고려해야 하는 영역은?\n",
    "-"
   ]
  },
  {
   "cell_type": "markdown",
   "metadata": {},
   "source": [
    "### 분석 과제의 주요 5가지 특성주요 관리 영역\n",
    "\n",
    "- Data Size\n",
    "- Data Complexity\n",
    "- Speed\n",
    "- Accuracy & Precision\n",
    "- Analytic Complexity"
   ]
  },
  {
   "cell_type": "markdown",
   "metadata": {},
   "source": [
    "### 하향식 접근법 (Top down approach)\n",
    "\n",
    "#### 가. 문제 탐색 단계\n",
    "- 비즈니스 모델 기반 문제 탐색\n",
    "    - 업무\n",
    "    - 제품\n",
    "    - 고객\n",
    "    - 규제와 감사\n",
    "    - 지원 인프라\n",
    "\n",
    "#### 나. 문제 정의 단계\n",
    "- 비즈니스 문제를 분석 문제로 변환\"??\n",
    "\n",
    "#### 다. 해결방안 탐색 단계\n",
    "\n",
    "#### 라. 타당성 검토 단계"
   ]
  },
  {
   "cell_type": "markdown",
   "metadata": {},
   "source": [
    "## 상향식 접근법 (Bottom Up Approach)"
   ]
  },
  {
   "cell_type": "markdown",
   "metadata": {},
   "source": [
    "## 분석 기획 시 고려사항\n",
    "\n",
    "- 가용한 데이터\n",
    "    - \n",
    "- 적절한 유스케이스\n",
    "- 분석과제 수행을 위한 장애요소"
   ]
  },
  {
   "cell_type": "markdown",
   "metadata": {},
   "source": [
    "## 분석 방법론\n",
    "\n",
    "???????\n",
    "????????\n",
    "????????"
   ]
  },
  {
   "cell_type": "markdown",
   "metadata": {},
   "source": [
    "### KDD 분석 방법론\n",
    "\n",
    "- 패턴 찾는 과정\n",
    "    - 분석 대상 비즈니스 도메인의 이해\n",
    "    - 분석 대상 데이터셋 선택과 생성\n",
    "    - 데이터에 포함되어 있는 노이즈(Noise)와 이상값(Outlier) 등을 제거하는 정제작업이나 선처리\n",
    "    - 분석 목적에 맞는 변수를 찾고 필요시 데이터의 차원을 축소하는 데이터 변경\n",
    "    - 분석 목적에 맞는 데이터 마이닝 기법 선택\n",
    "    - 본석 목적에 맞는 데이터 마이닝 알고리즘 선택\n",
    "    - 데이터 마이닝 시행\n",
    "    - 데이터 마이닝 결과에 대한 해석\n",
    "    - 데이터 마이닝에서 발견된 지식 활용"
   ]
  },
  {
   "cell_type": "markdown",
   "metadata": {},
   "source": [
    "1. 데이터셋 선택 (Selection)\n",
    "    - 비즈니스 도메인에 대한 이해, 프로젝트 목표를 정확하게 설정\n",
    "2. 데이터 전처리 (Preprocessing)\n",
    "    - 잡음(Noise), 이상값(Outlier), 결측치(Missing Value) 식별 및 필요시 제거\n",
    "    - 의미있는 데이터셋 정제작업을 시행한다.\n",
    "3. 데이터 변환 (Transformation)\n",
    "    - 목적에 맞느 변수를 선택\n",
    "    - 데이터의 차원을 축소 -> 데이터 마이닝 효율을 위해\n",
    "4. 데이터 마이닝 (Data Mining)\n",
    "    - "
   ]
  }
 ],
 "metadata": {
  "kernelspec": {
   "display_name": "R",
   "language": "R",
   "name": "ir"
  },
  "language_info": {
   "codemirror_mode": "r",
   "file_extension": ".r",
   "mimetype": "text/x-r-source",
   "name": "R",
   "pygments_lexer": "r",
   "version": "3.4.1"
  }
 },
 "nbformat": 4,
 "nbformat_minor": 2
}
