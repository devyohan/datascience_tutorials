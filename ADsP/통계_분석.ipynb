{
 "cells": [
  {
   "cell_type": "markdown",
   "metadata": {},
   "source": [
    "## 통계학 개론\n",
    "\n",
    "### 통계 분석 개요\n",
    "- 모집단\n",
    "    - 유용한 정보의 대상이 되는 것\n",
    "    - 우리가 알고자 하는 전체를 의미\n",
    "    - 조사하는 모집단의 일부분을 **표본(sample)**\n",
    "    - 모집단에 대해 알고자 하는 값을 **모수(parameter)**\n",
    "    - 모수를 추론하기 위해 구하는 표본의 값들을 **통계량(statistic)**\n",
    "    - 모집단을 구성하는 개체를 추출단위 혹은 원소라고 한다.\n",
    "    - 조사하는 방법\n",
    "        - 총조사 (census)\n",
    "        - 표본조사\n",
    "    - 표본추출의 방법\n",
    "        - 단순랜덤추출법 (Simple random sampling)\n",
    "        - 계통추출법 (Systematic sampling)\n",
    "        - 집락추출법 (Cluster sampling)\n",
    "        - 층화추출법 (Stratified sampling)"
   ]
  },
  {
   "cell_type": "markdown",
   "metadata": {},
   "source": [
    "### 자료의 종류\n",
    "\n",
    "- 측정 : 표본조사나 실험을 실시하는 과정에서 추출된 원소들이나 실험 단위로부터 주어진 목적에 적합하도록 관측해 자료를 얻는 것\n",
    "- 방법\n",
    "    - 명목척도 (nominal scale)\n",
    "        - 측정 대상이 어느 집단에 속하는지 분류\n",
    "        - 성별 구분, 출생지 등\n",
    "    - 순서척도 (ordinal scale)\n",
    "        - 서열관계를 관측\n",
    "        - 설문조사 등에서 0 부터 5 까지 선호도 조사 등에\n",
    "    - 구간척도 (interval scale)\n",
    "        - 속성의 양을 측정\n",
    "        - 온도, 지수 등\n",
    "    - 비율척도 (ratio scale)\n",
    "        - 절대적 기준인 0 값이 존재\n",
    "        - 모든 사칙연산 가능\n",
    "        - 제일 많은 정보를 가지고 있는 척도\n",
    "        - 무게, 나이, 연간소득, 제품가격 등\n",
    "        "
   ]
  },
  {
   "cell_type": "markdown",
   "metadata": {},
   "source": [
    "## 기초 통계 분석"
   ]
  },
  {
   "cell_type": "markdown",
   "metadata": {},
   "source": [
    "### 기술 통계\n",
    "Descriptive Statistics 란 자료를 요약하는 기초적 통계를 의미한다. 데이터 분석에 앞서 데이터의 대략적인 통계적 수치를 계산해봄으로써 데이터에 대한 대략적인 이해와 앞으로 분석에 대한 통찰력을 얻기에 유리하다."
   ]
  },
  {
   "cell_type": "code",
   "execution_count": 1,
   "metadata": {
    "ExecuteTime": {
     "end_time": "2017-11-15T07:48:56.906949Z",
     "start_time": "2017-11-15T07:48:56.477Z"
    }
   },
   "outputs": [
    {
     "data": {
      "text/html": [
       "<table>\n",
       "<thead><tr><th scope=col>Sepal.Length</th><th scope=col>Sepal.Width</th><th scope=col>Petal.Length</th><th scope=col>Petal.Width</th><th scope=col>Species</th></tr></thead>\n",
       "<tbody>\n",
       "\t<tr><td>5.1   </td><td>3.5   </td><td>1.4   </td><td>0.2   </td><td>setosa</td></tr>\n",
       "\t<tr><td>4.9   </td><td>3.0   </td><td>1.4   </td><td>0.2   </td><td>setosa</td></tr>\n",
       "\t<tr><td>4.7   </td><td>3.2   </td><td>1.3   </td><td>0.2   </td><td>setosa</td></tr>\n",
       "\t<tr><td>4.6   </td><td>3.1   </td><td>1.5   </td><td>0.2   </td><td>setosa</td></tr>\n",
       "\t<tr><td>5.0   </td><td>3.6   </td><td>1.4   </td><td>0.2   </td><td>setosa</td></tr>\n",
       "\t<tr><td>5.4   </td><td>3.9   </td><td>1.7   </td><td>0.4   </td><td>setosa</td></tr>\n",
       "</tbody>\n",
       "</table>\n"
      ],
      "text/latex": [
       "\\begin{tabular}{r|lllll}\n",
       " Sepal.Length & Sepal.Width & Petal.Length & Petal.Width & Species\\\\\n",
       "\\hline\n",
       "\t 5.1    & 3.5    & 1.4    & 0.2    & setosa\\\\\n",
       "\t 4.9    & 3.0    & 1.4    & 0.2    & setosa\\\\\n",
       "\t 4.7    & 3.2    & 1.3    & 0.2    & setosa\\\\\n",
       "\t 4.6    & 3.1    & 1.5    & 0.2    & setosa\\\\\n",
       "\t 5.0    & 3.6    & 1.4    & 0.2    & setosa\\\\\n",
       "\t 5.4    & 3.9    & 1.7    & 0.4    & setosa\\\\\n",
       "\\end{tabular}\n"
      ],
      "text/markdown": [
       "\n",
       "Sepal.Length | Sepal.Width | Petal.Length | Petal.Width | Species | \n",
       "|---|---|---|---|---|---|\n",
       "| 5.1    | 3.5    | 1.4    | 0.2    | setosa | \n",
       "| 4.9    | 3.0    | 1.4    | 0.2    | setosa | \n",
       "| 4.7    | 3.2    | 1.3    | 0.2    | setosa | \n",
       "| 4.6    | 3.1    | 1.5    | 0.2    | setosa | \n",
       "| 5.0    | 3.6    | 1.4    | 0.2    | setosa | \n",
       "| 5.4    | 3.9    | 1.7    | 0.4    | setosa | \n",
       "\n",
       "\n"
      ],
      "text/plain": [
       "  Sepal.Length Sepal.Width Petal.Length Petal.Width Species\n",
       "1 5.1          3.5         1.4          0.2         setosa \n",
       "2 4.9          3.0         1.4          0.2         setosa \n",
       "3 4.7          3.2         1.3          0.2         setosa \n",
       "4 4.6          3.1         1.5          0.2         setosa \n",
       "5 5.0          3.6         1.4          0.2         setosa \n",
       "6 5.4          3.9         1.7          0.4         setosa "
      ]
     },
     "metadata": {},
     "output_type": "display_data"
    }
   ],
   "source": [
    "data(iris)\n",
    "head(iris)"
   ]
  },
  {
   "cell_type": "code",
   "execution_count": 2,
   "metadata": {
    "ExecuteTime": {
     "end_time": "2017-11-15T07:49:14.537420Z",
     "start_time": "2017-11-15T07:49:14.469Z"
    }
   },
   "outputs": [
    {
     "data": {
      "text/plain": [
       "  Sepal.Length    Sepal.Width     Petal.Length    Petal.Width   \n",
       " Min.   :4.300   Min.   :2.000   Min.   :1.000   Min.   :0.100  \n",
       " 1st Qu.:5.100   1st Qu.:2.800   1st Qu.:1.600   1st Qu.:0.300  \n",
       " Median :5.800   Median :3.000   Median :4.350   Median :1.300  \n",
       " Mean   :5.843   Mean   :3.057   Mean   :3.758   Mean   :1.199  \n",
       " 3rd Qu.:6.400   3rd Qu.:3.300   3rd Qu.:5.100   3rd Qu.:1.800  \n",
       " Max.   :7.900   Max.   :4.400   Max.   :6.900   Max.   :2.500  \n",
       "       Species  \n",
       " setosa    :50  \n",
       " versicolor:50  \n",
       " virginica :50  \n",
       "                \n",
       "                \n",
       "                "
      ]
     },
     "metadata": {},
     "output_type": "display_data"
    }
   ],
   "source": [
    "summary(iris)"
   ]
  },
  {
   "cell_type": "code",
   "execution_count": 4,
   "metadata": {
    "ExecuteTime": {
     "end_time": "2017-11-15T07:50:22.869774Z",
     "start_time": "2017-11-15T07:50:22.831Z"
    }
   },
   "outputs": [
    {
     "data": {
      "text/html": [
       "0.828066127977863"
      ],
      "text/latex": [
       "0.828066127977863"
      ],
      "text/markdown": [
       "0.828066127977863"
      ],
      "text/plain": [
       "[1] 0.8280661"
      ]
     },
     "metadata": {},
     "output_type": "display_data"
    }
   ],
   "source": [
    "sd(iris$Sepal.Length)  # 표준편차"
   ]
  },
  {
   "cell_type": "code",
   "execution_count": 5,
   "metadata": {
    "ExecuteTime": {
     "end_time": "2017-11-15T07:50:38.951203Z",
     "start_time": "2017-11-15T07:50:38.919Z"
    }
   },
   "outputs": [
    {
     "data": {
      "text/html": [
       "0.685693512304251"
      ],
      "text/latex": [
       "0.685693512304251"
      ],
      "text/markdown": [
       "0.685693512304251"
      ],
      "text/plain": [
       "[1] 0.6856935"
      ]
     },
     "metadata": {},
     "output_type": "display_data"
    }
   ],
   "source": [
    "var(iris$Sepal.Length)  # 분산"
   ]
  },
  {
   "cell_type": "markdown",
   "metadata": {},
   "source": [
    "### 회귀 분석 (Regression Analysis)\n",
    "\n",
    "하나나 그 이상의 변수들이 또 다른 변수에 미치는 영향에 대해 추론할 수 있는 통계기법이다.\n",
    "\n",
    "영향을 받는 변수를 **종속변수** 혹은 **반응변수**라 하고 보통 $y$ 로 표기한다.\n",
    "\n",
    "영향을 주는 변수를 **독립변수** 혹은 **설명변수**라 하고 보통 $x, x_1, x_2$ 등으로 표기한다."
   ]
  },
  {
   "cell_type": "markdown",
   "metadata": {},
   "source": [
    "### 단순선형회귀모형\n",
    "\n",
    "하나의 독립변수($x$)와 하나의 종속변수($y$)로 이뤄져 있고, 오차항이 있는 선형관계로 다음과 같이 쓸 수 있다.\n",
    "\n",
    "$$y_i = \\beta_0 + \\beta_1 x_i + \\epsilon_i, i = 1, 2, ..., n$$"
   ]
  },
  {
   "cell_type": "markdown",
   "metadata": {},
   "source": [
    "## 회귀분석 종류\n",
    "\n",
    "- 단순회귀\n",
    "    - $Y = \\beta_0 + \\beta_1X + \\epsilon$\n",
    "    - 설명 변수가 1개이며 반응 변수와의 관계가 **직선**\n",
    "- 다중회귀\n",
    "    - $Y = \\beta_0 + \\beta_1X_1 + \\beta_2X_2 + ... + \\beta_kX_k + \\epsilon$\n",
    "    - 설명변수가 $k$개 이며 반응변수와의 관계가 선형 (1차 함수)\n",
    "- 다항회귀\n",
    "    - 설명변수가 $k$개 이며 반응변수와의 관계가 1차 함수 이상\n",
    "- 비선형회귀\n",
    "    - 회귀식의 모양이 미지의 모수 $\\beta_i$들의 선형관계로 이루어져 있지 않은 모형. 예를 들면 옆의 식에서 $g(t) = e^t$ 와 같은 비선형 식을 고려할 수 있다."
   ]
  },
  {
   "cell_type": "code",
   "execution_count": 6,
   "metadata": {
    "ExecuteTime": {
     "end_time": "2017-11-15T10:37:03.100397Z",
     "start_time": "2017-11-15T10:37:02.997Z"
    }
   },
   "outputs": [
    {
     "data": {
      "text/html": [
       "<table>\n",
       "<thead><tr><th scope=col>x</th><th scope=col>y</th></tr></thead>\n",
       "<tbody>\n",
       "\t<tr><td> 7.540425</td><td>24.468326</td></tr>\n",
       "\t<tr><td>10.650932</td><td>34.007117</td></tr>\n",
       "\t<tr><td> 9.428202</td><td>30.328845</td></tr>\n",
       "\t<tr><td> 6.847891</td><td>22.630815</td></tr>\n",
       "\t<tr><td> 3.944268</td><td>13.720065</td></tr>\n",
       "\t<tr><td> 5.815382</td><td>19.470920</td></tr>\n",
       "\t<tr><td> 9.398782</td><td>30.391450</td></tr>\n",
       "\t<tr><td> 4.174398</td><td>14.386846</td></tr>\n",
       "\t<tr><td> 4.107021</td><td>14.294112</td></tr>\n",
       "\t<tr><td> 1.854481</td><td> 7.423252</td></tr>\n",
       "</tbody>\n",
       "</table>\n"
      ],
      "text/latex": [
       "\\begin{tabular}{r|ll}\n",
       " x & y\\\\\n",
       "\\hline\n",
       "\t  7.540425 & 24.468326\\\\\n",
       "\t 10.650932 & 34.007117\\\\\n",
       "\t  9.428202 & 30.328845\\\\\n",
       "\t  6.847891 & 22.630815\\\\\n",
       "\t  3.944268 & 13.720065\\\\\n",
       "\t  5.815382 & 19.470920\\\\\n",
       "\t  9.398782 & 30.391450\\\\\n",
       "\t  4.174398 & 14.386846\\\\\n",
       "\t  4.107021 & 14.294112\\\\\n",
       "\t  1.854481 &  7.423252\\\\\n",
       "\\end{tabular}\n"
      ],
      "text/markdown": [
       "\n",
       "x | y | \n",
       "|---|---|---|---|---|---|---|---|---|---|\n",
       "|  7.540425 | 24.468326 | \n",
       "| 10.650932 | 34.007117 | \n",
       "|  9.428202 | 30.328845 | \n",
       "|  6.847891 | 22.630815 | \n",
       "|  3.944268 | 13.720065 | \n",
       "|  5.815382 | 19.470920 | \n",
       "|  9.398782 | 30.391450 | \n",
       "|  4.174398 | 14.386846 | \n",
       "|  4.107021 | 14.294112 | \n",
       "|  1.854481 |  7.423252 | \n",
       "\n",
       "\n"
      ],
      "text/plain": [
       "   x         y        \n",
       "1   7.540425 24.468326\n",
       "2  10.650932 34.007117\n",
       "3   9.428202 30.328845\n",
       "4   6.847891 22.630815\n",
       "5   3.944268 13.720065\n",
       "6   5.815382 19.470920\n",
       "7   9.398782 30.391450\n",
       "8   4.174398 14.386846\n",
       "9   4.107021 14.294112\n",
       "10  1.854481  7.423252"
      ]
     },
     "metadata": {},
     "output_type": "display_data"
    }
   ],
   "source": [
    "x <- runif(10, 0, 11)\n",
    "y <- 2 + 3*x + rnorm(10, 0, 0.2)\n",
    "dfrm <- data.frame(x, y)\n",
    "dfrm"
   ]
  },
  {
   "cell_type": "code",
   "execution_count": 7,
   "metadata": {
    "ExecuteTime": {
     "end_time": "2017-11-15T10:41:21.421139Z",
     "start_time": "2017-11-15T10:41:21.381Z"
    }
   },
   "outputs": [
    {
     "data": {
      "text/html": [
       "<table>\n",
       "<thead><tr><th scope=col>speed2</th><th scope=col>speed</th><th scope=col>dist</th></tr></thead>\n",
       "<tbody>\n",
       "\t<tr><td>16</td><td>4 </td><td> 2</td></tr>\n",
       "\t<tr><td>16</td><td>4 </td><td>10</td></tr>\n",
       "\t<tr><td>49</td><td>7 </td><td> 4</td></tr>\n",
       "\t<tr><td>49</td><td>7 </td><td>22</td></tr>\n",
       "\t<tr><td>64</td><td>8 </td><td>16</td></tr>\n",
       "\t<tr><td>81</td><td>9 </td><td>10</td></tr>\n",
       "</tbody>\n",
       "</table>\n"
      ],
      "text/latex": [
       "\\begin{tabular}{r|lll}\n",
       " speed2 & speed & dist\\\\\n",
       "\\hline\n",
       "\t 16 & 4  &  2\\\\\n",
       "\t 16 & 4  & 10\\\\\n",
       "\t 49 & 7  &  4\\\\\n",
       "\t 49 & 7  & 22\\\\\n",
       "\t 64 & 8  & 16\\\\\n",
       "\t 81 & 9  & 10\\\\\n",
       "\\end{tabular}\n"
      ],
      "text/markdown": [
       "\n",
       "speed2 | speed | dist | \n",
       "|---|---|---|---|---|---|\n",
       "| 16 | 4  |  2 | \n",
       "| 16 | 4  | 10 | \n",
       "| 49 | 7  |  4 | \n",
       "| 49 | 7  | 22 | \n",
       "| 64 | 8  | 16 | \n",
       "| 81 | 9  | 10 | \n",
       "\n",
       "\n"
      ],
      "text/plain": [
       "  speed2 speed dist\n",
       "1 16     4      2  \n",
       "2 16     4     10  \n",
       "3 49     7      4  \n",
       "4 49     7     22  \n",
       "5 64     8     16  \n",
       "6 81     9     10  "
      ]
     },
     "metadata": {},
     "output_type": "display_data"
    }
   ],
   "source": [
    "speed2 <- cars$speed^2\n",
    "carss <- cbind(speed2, cars)\n",
    "head(carss)"
   ]
  },
  {
   "cell_type": "code",
   "execution_count": 8,
   "metadata": {
    "ExecuteTime": {
     "end_time": "2017-11-15T10:41:42.348930Z",
     "start_time": "2017-11-15T10:41:42.298Z"
    }
   },
   "outputs": [
    {
     "data": {
      "text/plain": [
       "\n",
       "Call:\n",
       "lm(formula = dist ~ speed + speed2, data = carss)\n",
       "\n",
       "Coefficients:\n",
       "(Intercept)        speed       speed2  \n",
       "    2.47014      0.91329      0.09996  \n"
      ]
     },
     "metadata": {},
     "output_type": "display_data"
    }
   ],
   "source": [
    "lm(dist ~ speed + speed2, data = carss)"
   ]
  },
  {
   "cell_type": "markdown",
   "metadata": {},
   "source": [
    "### 다변량 분석"
   ]
  },
  {
   "cell_type": "markdown",
   "metadata": {},
   "source": [
    "### 상관 분석\n",
    "Correlation Analysis\n",
    "\n",
    "- 두 변수의 상관관계를 알아보기 위해 상관계수(Correlation coefficient) 를 이용한다.\n",
    "- Pearson correlation : 등간척도 이상으로 측정되는 두 변수들 간의 상관관계를 측정하는 데 쓰임\n",
    "- Spearman correlation : 서열척도인 두 변수들의 상관관계를 측정하는 데 사용"
   ]
  },
  {
   "cell_type": "code",
   "execution_count": 9,
   "metadata": {
    "ExecuteTime": {
     "end_time": "2017-11-15T11:04:48.658014Z",
     "start_time": "2017-11-15T11:04:48.527Z"
    }
   },
   "outputs": [
    {
     "data": {
      "text/html": [
       "<table>\n",
       "<thead><tr><th></th><th scope=col>mpg</th><th scope=col>cyl</th><th scope=col>disp</th><th scope=col>hp</th><th scope=col>drat</th><th scope=col>wt</th><th scope=col>qsec</th><th scope=col>vs</th><th scope=col>am</th><th scope=col>gear</th><th scope=col>carb</th></tr></thead>\n",
       "<tbody>\n",
       "\t<tr><th scope=row>Mazda RX4</th><td>21.0 </td><td>6    </td><td>160  </td><td>110  </td><td>3.90 </td><td>2.620</td><td>16.46</td><td>0    </td><td>1    </td><td>4    </td><td>4    </td></tr>\n",
       "\t<tr><th scope=row>Mazda RX4 Wag</th><td>21.0 </td><td>6    </td><td>160  </td><td>110  </td><td>3.90 </td><td>2.875</td><td>17.02</td><td>0    </td><td>1    </td><td>4    </td><td>4    </td></tr>\n",
       "\t<tr><th scope=row>Datsun 710</th><td>22.8 </td><td>4    </td><td>108  </td><td> 93  </td><td>3.85 </td><td>2.320</td><td>18.61</td><td>1    </td><td>1    </td><td>4    </td><td>1    </td></tr>\n",
       "\t<tr><th scope=row>Hornet 4 Drive</th><td>21.4 </td><td>6    </td><td>258  </td><td>110  </td><td>3.08 </td><td>3.215</td><td>19.44</td><td>1    </td><td>0    </td><td>3    </td><td>1    </td></tr>\n",
       "\t<tr><th scope=row>Hornet Sportabout</th><td>18.7 </td><td>8    </td><td>360  </td><td>175  </td><td>3.15 </td><td>3.440</td><td>17.02</td><td>0    </td><td>0    </td><td>3    </td><td>2    </td></tr>\n",
       "\t<tr><th scope=row>Valiant</th><td>18.1 </td><td>6    </td><td>225  </td><td>105  </td><td>2.76 </td><td>3.460</td><td>20.22</td><td>1    </td><td>0    </td><td>3    </td><td>1    </td></tr>\n",
       "</tbody>\n",
       "</table>\n"
      ],
      "text/latex": [
       "\\begin{tabular}{r|lllllllllll}\n",
       "  & mpg & cyl & disp & hp & drat & wt & qsec & vs & am & gear & carb\\\\\n",
       "\\hline\n",
       "\tMazda RX4 & 21.0  & 6     & 160   & 110   & 3.90  & 2.620 & 16.46 & 0     & 1     & 4     & 4    \\\\\n",
       "\tMazda RX4 Wag & 21.0  & 6     & 160   & 110   & 3.90  & 2.875 & 17.02 & 0     & 1     & 4     & 4    \\\\\n",
       "\tDatsun 710 & 22.8  & 4     & 108   &  93   & 3.85  & 2.320 & 18.61 & 1     & 1     & 4     & 1    \\\\\n",
       "\tHornet 4 Drive & 21.4  & 6     & 258   & 110   & 3.08  & 3.215 & 19.44 & 1     & 0     & 3     & 1    \\\\\n",
       "\tHornet Sportabout & 18.7  & 8     & 360   & 175   & 3.15  & 3.440 & 17.02 & 0     & 0     & 3     & 2    \\\\\n",
       "\tValiant & 18.1  & 6     & 225   & 105   & 2.76  & 3.460 & 20.22 & 1     & 0     & 3     & 1    \\\\\n",
       "\\end{tabular}\n"
      ],
      "text/markdown": [
       "\n",
       "| <!--/--> | mpg | cyl | disp | hp | drat | wt | qsec | vs | am | gear | carb | \n",
       "|---|---|---|---|---|---|\n",
       "| Mazda RX4 | 21.0  | 6     | 160   | 110   | 3.90  | 2.620 | 16.46 | 0     | 1     | 4     | 4     | \n",
       "| Mazda RX4 Wag | 21.0  | 6     | 160   | 110   | 3.90  | 2.875 | 17.02 | 0     | 1     | 4     | 4     | \n",
       "| Datsun 710 | 22.8  | 4     | 108   |  93   | 3.85  | 2.320 | 18.61 | 1     | 1     | 4     | 1     | \n",
       "| Hornet 4 Drive | 21.4  | 6     | 258   | 110   | 3.08  | 3.215 | 19.44 | 1     | 0     | 3     | 1     | \n",
       "| Hornet Sportabout | 18.7  | 8     | 360   | 175   | 3.15  | 3.440 | 17.02 | 0     | 0     | 3     | 2     | \n",
       "| Valiant | 18.1  | 6     | 225   | 105   | 2.76  | 3.460 | 20.22 | 1     | 0     | 3     | 1     | \n",
       "\n",
       "\n"
      ],
      "text/plain": [
       "                  mpg  cyl disp hp  drat wt    qsec  vs am gear carb\n",
       "Mazda RX4         21.0 6   160  110 3.90 2.620 16.46 0  1  4    4   \n",
       "Mazda RX4 Wag     21.0 6   160  110 3.90 2.875 17.02 0  1  4    4   \n",
       "Datsun 710        22.8 4   108   93 3.85 2.320 18.61 1  1  4    1   \n",
       "Hornet 4 Drive    21.4 6   258  110 3.08 3.215 19.44 1  0  3    1   \n",
       "Hornet Sportabout 18.7 8   360  175 3.15 3.440 17.02 0  0  3    2   \n",
       "Valiant           18.1 6   225  105 2.76 3.460 20.22 1  0  3    1   "
      ]
     },
     "metadata": {},
     "output_type": "display_data"
    }
   ],
   "source": [
    "data(mtcars)\n",
    "head(mtcars)"
   ]
  },
  {
   "cell_type": "code",
   "execution_count": 11,
   "metadata": {
    "ExecuteTime": {
     "end_time": "2017-11-15T11:06:24.134552Z",
     "start_time": "2017-11-15T11:06:20.103Z"
    }
   },
   "outputs": [
    {
     "name": "stderr",
     "output_type": "stream",
     "text": [
      "Loading required package: lattice\n",
      "Warning message:\n",
      "\"package 'lattice' was built under R version 3.4.2\"Loading required package: survival\n",
      "Loading required package: Formula\n",
      "Loading required package: ggplot2\n",
      "Warning message:\n",
      "\"package 'ggplot2' was built under R version 3.4.2\"\n",
      "Attaching package: 'Hmisc'\n",
      "\n",
      "The following objects are masked from 'package:base':\n",
      "\n",
      "    format.pval, round.POSIXt, trunc.POSIXt, units\n",
      "\n"
     ]
    },
    {
     "data": {
      "text/plain": [
       "       mpg   cyl  disp    hp  drat    wt  qsec    vs    am  gear  carb\n",
       "mpg   1.00 -0.85 -0.85 -0.78  0.68 -0.87  0.42  0.66  0.60  0.48 -0.55\n",
       "cyl  -0.85  1.00  0.90  0.83 -0.70  0.78 -0.59 -0.81 -0.52 -0.49  0.53\n",
       "disp -0.85  0.90  1.00  0.79 -0.71  0.89 -0.43 -0.71 -0.59 -0.56  0.39\n",
       "hp   -0.78  0.83  0.79  1.00 -0.45  0.66 -0.71 -0.72 -0.24 -0.13  0.75\n",
       "drat  0.68 -0.70 -0.71 -0.45  1.00 -0.71  0.09  0.44  0.71  0.70 -0.09\n",
       "wt   -0.87  0.78  0.89  0.66 -0.71  1.00 -0.17 -0.55 -0.69 -0.58  0.43\n",
       "qsec  0.42 -0.59 -0.43 -0.71  0.09 -0.17  1.00  0.74 -0.23 -0.21 -0.66\n",
       "vs    0.66 -0.81 -0.71 -0.72  0.44 -0.55  0.74  1.00  0.17  0.21 -0.57\n",
       "am    0.60 -0.52 -0.59 -0.24  0.71 -0.69 -0.23  0.17  1.00  0.79  0.06\n",
       "gear  0.48 -0.49 -0.56 -0.13  0.70 -0.58 -0.21  0.21  0.79  1.00  0.27\n",
       "carb -0.55  0.53  0.39  0.75 -0.09  0.43 -0.66 -0.57  0.06  0.27  1.00\n",
       "\n",
       "n= 32 \n",
       "\n",
       "\n",
       "P\n",
       "     mpg    cyl    disp   hp     drat   wt     qsec   vs     am     gear  \n",
       "mpg         0.0000 0.0000 0.0000 0.0000 0.0000 0.0171 0.0000 0.0003 0.0054\n",
       "cyl  0.0000        0.0000 0.0000 0.0000 0.0000 0.0004 0.0000 0.0022 0.0042\n",
       "disp 0.0000 0.0000        0.0000 0.0000 0.0000 0.0131 0.0000 0.0004 0.0010\n",
       "hp   0.0000 0.0000 0.0000        0.0100 0.0000 0.0000 0.0000 0.1798 0.4930\n",
       "drat 0.0000 0.0000 0.0000 0.0100        0.0000 0.6196 0.0117 0.0000 0.0000\n",
       "wt   0.0000 0.0000 0.0000 0.0000 0.0000        0.3389 0.0010 0.0000 0.0005\n",
       "qsec 0.0171 0.0004 0.0131 0.0000 0.6196 0.3389        0.0000 0.2057 0.2425\n",
       "vs   0.0000 0.0000 0.0000 0.0000 0.0117 0.0010 0.0000        0.3570 0.2579\n",
       "am   0.0003 0.0022 0.0004 0.1798 0.0000 0.0000 0.2057 0.3570        0.0000\n",
       "gear 0.0054 0.0042 0.0010 0.4930 0.0000 0.0005 0.2425 0.2579 0.0000       \n",
       "carb 0.0011 0.0019 0.0253 0.0000 0.6212 0.0146 0.0000 0.0007 0.7545 0.1290\n",
       "     carb  \n",
       "mpg  0.0011\n",
       "cyl  0.0019\n",
       "disp 0.0253\n",
       "hp   0.0000\n",
       "drat 0.6212\n",
       "wt   0.0146\n",
       "qsec 0.0000\n",
       "vs   0.0007\n",
       "am   0.7545\n",
       "gear 0.1290\n",
       "carb       "
      ]
     },
     "metadata": {},
     "output_type": "display_data"
    }
   ],
   "source": [
    "library(Hmisc)\n",
    "rcorr(as.matrix(mtcars), type = \"pearson\")"
   ]
  },
  {
   "cell_type": "code",
   "execution_count": 13,
   "metadata": {
    "ExecuteTime": {
     "end_time": "2017-11-15T11:09:58.517200Z",
     "start_time": "2017-11-15T11:09:58.446Z"
    }
   },
   "outputs": [
    {
     "data": {
      "text/plain": [
       "       mpg   cyl  disp    hp  drat    wt  qsec    vs    am  gear  carb\n",
       "mpg   1.00 -0.91 -0.91 -0.89  0.65 -0.89  0.47  0.71  0.56  0.54 -0.66\n",
       "cyl  -0.91  1.00  0.93  0.90 -0.68  0.86 -0.57 -0.81 -0.52 -0.56  0.58\n",
       "disp -0.91  0.93  1.00  0.85 -0.68  0.90 -0.46 -0.72 -0.62 -0.59  0.54\n",
       "hp   -0.89  0.90  0.85  1.00 -0.52  0.77 -0.67 -0.75 -0.36 -0.33  0.73\n",
       "drat  0.65 -0.68 -0.68 -0.52  1.00 -0.75  0.09  0.45  0.69  0.74 -0.13\n",
       "wt   -0.89  0.86  0.90  0.77 -0.75  1.00 -0.23 -0.59 -0.74 -0.68  0.50\n",
       "qsec  0.47 -0.57 -0.46 -0.67  0.09 -0.23  1.00  0.79 -0.20 -0.15 -0.66\n",
       "vs    0.71 -0.81 -0.72 -0.75  0.45 -0.59  0.79  1.00  0.17  0.28 -0.63\n",
       "am    0.56 -0.52 -0.62 -0.36  0.69 -0.74 -0.20  0.17  1.00  0.81 -0.06\n",
       "gear  0.54 -0.56 -0.59 -0.33  0.74 -0.68 -0.15  0.28  0.81  1.00  0.11\n",
       "carb -0.66  0.58  0.54  0.73 -0.13  0.50 -0.66 -0.63 -0.06  0.11  1.00\n",
       "\n",
       "n= 32 \n",
       "\n",
       "\n",
       "P\n",
       "     mpg    cyl    disp   hp     drat   wt     qsec   vs     am     gear  \n",
       "mpg         0.0000 0.0000 0.0000 0.0000 0.0000 0.0071 0.0000 0.0008 0.0013\n",
       "cyl  0.0000        0.0000 0.0000 0.0000 0.0000 0.0006 0.0000 0.0022 0.0008\n",
       "disp 0.0000 0.0000        0.0000 0.0000 0.0000 0.0081 0.0000 0.0001 0.0003\n",
       "hp   0.0000 0.0000 0.0000        0.0023 0.0000 0.0000 0.0000 0.0416 0.0639\n",
       "drat 0.0000 0.0000 0.0000 0.0023        0.0000 0.6170 0.0102 0.0000 0.0000\n",
       "wt   0.0000 0.0000 0.0000 0.0000 0.0000        0.2148 0.0004 0.0000 0.0000\n",
       "qsec 0.0071 0.0006 0.0081 0.0000 0.6170 0.2148        0.0000 0.2644 0.4182\n",
       "vs   0.0000 0.0000 0.0000 0.0000 0.0102 0.0004 0.0000        0.3570 0.1170\n",
       "am   0.0008 0.0022 0.0001 0.0416 0.0000 0.0000 0.2644 0.3570        0.0000\n",
       "gear 0.0013 0.0008 0.0003 0.0639 0.0000 0.0000 0.4182 0.1170 0.0000       \n",
       "carb 0.0000 0.0005 0.0014 0.0000 0.4947 0.0036 0.0000 0.0000 0.7264 0.5312\n",
       "     carb  \n",
       "mpg  0.0000\n",
       "cyl  0.0005\n",
       "disp 0.0014\n",
       "hp   0.0000\n",
       "drat 0.4947\n",
       "wt   0.0036\n",
       "qsec 0.0000\n",
       "vs   0.0000\n",
       "am   0.7264\n",
       "gear 0.5312\n",
       "carb       "
      ]
     },
     "metadata": {},
     "output_type": "display_data"
    }
   ],
   "source": [
    "rcorr(as.matrix(mtcars), type = \"spearman\")"
   ]
  },
  {
   "cell_type": "code",
   "execution_count": 12,
   "metadata": {
    "ExecuteTime": {
     "end_time": "2017-11-15T11:07:55.831416Z",
     "start_time": "2017-11-15T11:07:55.662Z"
    }
   },
   "outputs": [
    {
     "data": {
      "text/html": [
       "<table>\n",
       "<thead><tr><th></th><th scope=col>mpg</th><th scope=col>cyl</th><th scope=col>disp</th><th scope=col>hp</th><th scope=col>drat</th><th scope=col>wt</th><th scope=col>qsec</th><th scope=col>vs</th><th scope=col>am</th><th scope=col>gear</th><th scope=col>carb</th></tr></thead>\n",
       "<tbody>\n",
       "\t<tr><th scope=row>mpg</th><td>  36.324103 </td><td> -9.1723790 </td><td> -633.09721 </td><td>-320.732056 </td><td>  2.19506351</td><td> -5.1166847 </td><td>  4.50914919</td><td>  2.01713710</td><td>  1.80393145</td><td>  2.1356855 </td><td>-5.36310484 </td></tr>\n",
       "\t<tr><th scope=row>cyl</th><td>  -9.172379 </td><td>  3.1895161 </td><td>  199.66028 </td><td> 101.931452 </td><td> -0.66836694</td><td>  1.3673710 </td><td> -1.88685484</td><td> -0.72983871</td><td> -0.46572581</td><td> -0.6491935 </td><td> 1.52016129 </td></tr>\n",
       "\t<tr><th scope=row>disp</th><td>-633.097208 </td><td>199.6602823 </td><td>15360.79983 </td><td>6721.158669 </td><td>-47.06401915</td><td>107.6842040 </td><td>-96.05168145</td><td>-44.37762097</td><td>-36.56401210</td><td>-50.8026210 </td><td>79.06875000 </td></tr>\n",
       "\t<tr><th scope=row>hp</th><td>-320.732056 </td><td>101.9314516 </td><td> 6721.15867 </td><td>4700.866935 </td><td>-16.45110887</td><td> 44.1926613 </td><td>-86.77008065</td><td>-24.98790323</td><td> -8.32056452</td><td> -6.3588710 </td><td>83.03629032 </td></tr>\n",
       "\t<tr><th scope=row>drat</th><td>   2.195064 </td><td> -0.6683669 </td><td>  -47.06402 </td><td> -16.451109 </td><td>  0.28588135</td><td> -0.3727207 </td><td>  0.08714073</td><td>  0.11864919</td><td>  0.19015121</td><td>  0.2759879 </td><td>-0.07840726 </td></tr>\n",
       "\t<tr><th scope=row>wt</th><td>  -5.116685 </td><td>  1.3673710 </td><td>  107.68420 </td><td>  44.192661 </td><td> -0.37272073</td><td>  0.9573790 </td><td> -0.30548161</td><td> -0.27366129</td><td> -0.33810484</td><td> -0.4210806 </td><td> 0.67579032 </td></tr>\n",
       "\t<tr><th scope=row>qsec</th><td>   4.509149 </td><td> -1.8868548 </td><td>  -96.05168 </td><td> -86.770081 </td><td>  0.08714073</td><td> -0.3054816 </td><td>  3.19316613</td><td>  0.67056452</td><td> -0.20495968</td><td> -0.2804032 </td><td>-1.89411290 </td></tr>\n",
       "\t<tr><th scope=row>vs</th><td>   2.017137 </td><td> -0.7298387 </td><td>  -44.37762 </td><td> -24.987903 </td><td>  0.11864919</td><td> -0.2736613 </td><td>  0.67056452</td><td>  0.25403226</td><td>  0.04233871</td><td>  0.0766129 </td><td>-0.46370968 </td></tr>\n",
       "\t<tr><th scope=row>am</th><td>   1.803931 </td><td> -0.4657258 </td><td>  -36.56401 </td><td>  -8.320565 </td><td>  0.19015121</td><td> -0.3381048 </td><td> -0.20495968</td><td>  0.04233871</td><td>  0.24899194</td><td>  0.2923387 </td><td> 0.04637097 </td></tr>\n",
       "\t<tr><th scope=row>gear</th><td>   2.135685 </td><td> -0.6491935 </td><td>  -50.80262 </td><td>  -6.358871 </td><td>  0.27598790</td><td> -0.4210806 </td><td> -0.28040323</td><td>  0.07661290</td><td>  0.29233871</td><td>  0.5443548 </td><td> 0.32661290 </td></tr>\n",
       "\t<tr><th scope=row>carb</th><td>  -5.363105 </td><td>  1.5201613 </td><td>   79.06875 </td><td>  83.036290 </td><td> -0.07840726</td><td>  0.6757903 </td><td> -1.89411290</td><td> -0.46370968</td><td>  0.04637097</td><td>  0.3266129 </td><td> 2.60887097 </td></tr>\n",
       "</tbody>\n",
       "</table>\n"
      ],
      "text/latex": [
       "\\begin{tabular}{r|lllllllllll}\n",
       "  & mpg & cyl & disp & hp & drat & wt & qsec & vs & am & gear & carb\\\\\n",
       "\\hline\n",
       "\tmpg &   36.324103  &  -9.1723790  &  -633.09721  & -320.732056  &   2.19506351 &  -5.1166847  &   4.50914919 &   2.01713710 &   1.80393145 &   2.1356855  & -5.36310484 \\\\\n",
       "\tcyl &   -9.172379  &   3.1895161  &   199.66028  &  101.931452  &  -0.66836694 &   1.3673710  &  -1.88685484 &  -0.72983871 &  -0.46572581 &  -0.6491935  &  1.52016129 \\\\\n",
       "\tdisp & -633.097208  & 199.6602823  & 15360.79983  & 6721.158669  & -47.06401915 & 107.6842040  & -96.05168145 & -44.37762097 & -36.56401210 & -50.8026210  & 79.06875000 \\\\\n",
       "\thp & -320.732056  & 101.9314516  &  6721.15867  & 4700.866935  & -16.45110887 &  44.1926613  & -86.77008065 & -24.98790323 &  -8.32056452 &  -6.3588710  & 83.03629032 \\\\\n",
       "\tdrat &    2.195064  &  -0.6683669  &   -47.06402  &  -16.451109  &   0.28588135 &  -0.3727207  &   0.08714073 &   0.11864919 &   0.19015121 &   0.2759879  & -0.07840726 \\\\\n",
       "\twt &   -5.116685  &   1.3673710  &   107.68420  &   44.192661  &  -0.37272073 &   0.9573790  &  -0.30548161 &  -0.27366129 &  -0.33810484 &  -0.4210806  &  0.67579032 \\\\\n",
       "\tqsec &    4.509149  &  -1.8868548  &   -96.05168  &  -86.770081  &   0.08714073 &  -0.3054816  &   3.19316613 &   0.67056452 &  -0.20495968 &  -0.2804032  & -1.89411290 \\\\\n",
       "\tvs &    2.017137  &  -0.7298387  &   -44.37762  &  -24.987903  &   0.11864919 &  -0.2736613  &   0.67056452 &   0.25403226 &   0.04233871 &   0.0766129  & -0.46370968 \\\\\n",
       "\tam &    1.803931  &  -0.4657258  &   -36.56401  &   -8.320565  &   0.19015121 &  -0.3381048  &  -0.20495968 &   0.04233871 &   0.24899194 &   0.2923387  &  0.04637097 \\\\\n",
       "\tgear &    2.135685  &  -0.6491935  &   -50.80262  &   -6.358871  &   0.27598790 &  -0.4210806  &  -0.28040323 &   0.07661290 &   0.29233871 &   0.5443548  &  0.32661290 \\\\\n",
       "\tcarb &   -5.363105  &   1.5201613  &    79.06875  &   83.036290  &  -0.07840726 &   0.6757903  &  -1.89411290 &  -0.46370968 &   0.04637097 &   0.3266129  &  2.60887097 \\\\\n",
       "\\end{tabular}\n"
      ],
      "text/markdown": [
       "\n",
       "| <!--/--> | mpg | cyl | disp | hp | drat | wt | qsec | vs | am | gear | carb | \n",
       "|---|---|---|---|---|---|---|---|---|---|---|\n",
       "| mpg |   36.324103  |  -9.1723790  |  -633.09721  | -320.732056  |   2.19506351 |  -5.1166847  |   4.50914919 |   2.01713710 |   1.80393145 |   2.1356855  | -5.36310484  | \n",
       "| cyl |   -9.172379  |   3.1895161  |   199.66028  |  101.931452  |  -0.66836694 |   1.3673710  |  -1.88685484 |  -0.72983871 |  -0.46572581 |  -0.6491935  |  1.52016129  | \n",
       "| disp | -633.097208  | 199.6602823  | 15360.79983  | 6721.158669  | -47.06401915 | 107.6842040  | -96.05168145 | -44.37762097 | -36.56401210 | -50.8026210  | 79.06875000  | \n",
       "| hp | -320.732056  | 101.9314516  |  6721.15867  | 4700.866935  | -16.45110887 |  44.1926613  | -86.77008065 | -24.98790323 |  -8.32056452 |  -6.3588710  | 83.03629032  | \n",
       "| drat |    2.195064  |  -0.6683669  |   -47.06402  |  -16.451109  |   0.28588135 |  -0.3727207  |   0.08714073 |   0.11864919 |   0.19015121 |   0.2759879  | -0.07840726  | \n",
       "| wt |   -5.116685  |   1.3673710  |   107.68420  |   44.192661  |  -0.37272073 |   0.9573790  |  -0.30548161 |  -0.27366129 |  -0.33810484 |  -0.4210806  |  0.67579032  | \n",
       "| qsec |    4.509149  |  -1.8868548  |   -96.05168  |  -86.770081  |   0.08714073 |  -0.3054816  |   3.19316613 |   0.67056452 |  -0.20495968 |  -0.2804032  | -1.89411290  | \n",
       "| vs |    2.017137  |  -0.7298387  |   -44.37762  |  -24.987903  |   0.11864919 |  -0.2736613  |   0.67056452 |   0.25403226 |   0.04233871 |   0.0766129  | -0.46370968  | \n",
       "| am |    1.803931  |  -0.4657258  |   -36.56401  |   -8.320565  |   0.19015121 |  -0.3381048  |  -0.20495968 |   0.04233871 |   0.24899194 |   0.2923387  |  0.04637097  | \n",
       "| gear |    2.135685  |  -0.6491935  |   -50.80262  |   -6.358871  |   0.27598790 |  -0.4210806  |  -0.28040323 |   0.07661290 |   0.29233871 |   0.5443548  |  0.32661290  | \n",
       "| carb |   -5.363105  |   1.5201613  |    79.06875  |   83.036290  |  -0.07840726 |   0.6757903  |  -1.89411290 |  -0.46370968 |   0.04637097 |   0.3266129  |  2.60887097  | \n",
       "\n",
       "\n"
      ],
      "text/plain": [
       "     mpg         cyl         disp        hp          drat         wt         \n",
       "mpg    36.324103  -9.1723790  -633.09721 -320.732056   2.19506351  -5.1166847\n",
       "cyl    -9.172379   3.1895161   199.66028  101.931452  -0.66836694   1.3673710\n",
       "disp -633.097208 199.6602823 15360.79983 6721.158669 -47.06401915 107.6842040\n",
       "hp   -320.732056 101.9314516  6721.15867 4700.866935 -16.45110887  44.1926613\n",
       "drat    2.195064  -0.6683669   -47.06402  -16.451109   0.28588135  -0.3727207\n",
       "wt     -5.116685   1.3673710   107.68420   44.192661  -0.37272073   0.9573790\n",
       "qsec    4.509149  -1.8868548   -96.05168  -86.770081   0.08714073  -0.3054816\n",
       "vs      2.017137  -0.7298387   -44.37762  -24.987903   0.11864919  -0.2736613\n",
       "am      1.803931  -0.4657258   -36.56401   -8.320565   0.19015121  -0.3381048\n",
       "gear    2.135685  -0.6491935   -50.80262   -6.358871   0.27598790  -0.4210806\n",
       "carb   -5.363105   1.5201613    79.06875   83.036290  -0.07840726   0.6757903\n",
       "     qsec         vs           am           gear        carb       \n",
       "mpg    4.50914919   2.01713710   1.80393145   2.1356855 -5.36310484\n",
       "cyl   -1.88685484  -0.72983871  -0.46572581  -0.6491935  1.52016129\n",
       "disp -96.05168145 -44.37762097 -36.56401210 -50.8026210 79.06875000\n",
       "hp   -86.77008065 -24.98790323  -8.32056452  -6.3588710 83.03629032\n",
       "drat   0.08714073   0.11864919   0.19015121   0.2759879 -0.07840726\n",
       "wt    -0.30548161  -0.27366129  -0.33810484  -0.4210806  0.67579032\n",
       "qsec   3.19316613   0.67056452  -0.20495968  -0.2804032 -1.89411290\n",
       "vs     0.67056452   0.25403226   0.04233871   0.0766129 -0.46370968\n",
       "am    -0.20495968   0.04233871   0.24899194   0.2923387  0.04637097\n",
       "gear  -0.28040323   0.07661290   0.29233871   0.5443548  0.32661290\n",
       "carb  -1.89411290  -0.46370968   0.04637097   0.3266129  2.60887097"
      ]
     },
     "metadata": {},
     "output_type": "display_data"
    }
   ],
   "source": [
    "cov(mtcars)"
   ]
  },
  {
   "cell_type": "code",
   "execution_count": 14,
   "metadata": {
    "ExecuteTime": {
     "end_time": "2017-11-15T11:13:10.930308Z",
     "start_time": "2017-11-15T11:13:10.894Z"
    },
    "collapsed": true
   },
   "outputs": [],
   "source": [
    "korean <- c(85, 75, 65, 78, 59, 60, 90, 100, 99, 91, 70)\n",
    "math <- c(80, 60, 75, 40, 50, 64, 70, 78, 90, 98, 50)\n",
    "english <- c(80, 70, 69, 79, 80, 95, 98, 97, 67, 80, 59)\n",
    "science <- c(90, 100, 50, 80, 67, 89, 60, 79, 89, 80, 100)\n",
    "\n",
    "test <- data.frame(korean, math, english, science)"
   ]
  },
  {
   "cell_type": "code",
   "execution_count": 15,
   "metadata": {
    "ExecuteTime": {
     "end_time": "2017-11-15T11:13:32.877833Z",
     "start_time": "2017-11-15T11:13:32.845Z"
    }
   },
   "outputs": [
    {
     "data": {
      "text/plain": [
       "        korean  math english science\n",
       "korean    1.00  0.65    0.20    0.00\n",
       "math      0.65  1.00    0.16   -0.09\n",
       "english   0.20  0.16    1.00   -0.42\n",
       "science   0.00 -0.09   -0.42    1.00\n",
       "\n",
       "n= 11 \n",
       "\n",
       "\n",
       "P\n",
       "        korean math   english science\n",
       "korean         0.0299 0.5517  1.0000 \n",
       "math    0.0299        0.6462  0.7937 \n",
       "english 0.5517 0.6462         0.1926 \n",
       "science 1.0000 0.7937 0.1926         "
      ]
     },
     "metadata": {},
     "output_type": "display_data"
    }
   ],
   "source": [
    "rcorr(as.matrix(test), type = \"spearman\")"
   ]
  },
  {
   "cell_type": "code",
   "execution_count": 16,
   "metadata": {
    "ExecuteTime": {
     "end_time": "2017-11-15T11:15:22.238191Z",
     "start_time": "2017-11-15T11:15:22.205Z"
    }
   },
   "outputs": [
    {
     "data": {
      "text/plain": [
       "        korean  math english science\n",
       "korean    1.00  0.63    0.21    0.10\n",
       "math      0.63  1.00    0.12   -0.09\n",
       "english   0.21  0.12    1.00   -0.31\n",
       "science   0.10 -0.09   -0.31    1.00\n",
       "\n",
       "n= 11 \n",
       "\n",
       "\n",
       "P\n",
       "        korean math   english science\n",
       "korean         0.0385 0.5418  0.7592 \n",
       "math    0.0385        0.7289  0.7838 \n",
       "english 0.5418 0.7289         0.3455 \n",
       "science 0.7592 0.7838 0.3455         "
      ]
     },
     "metadata": {},
     "output_type": "display_data"
    }
   ],
   "source": [
    "rcorr(as.matrix(test), type = \"pearson\")"
   ]
  },
  {
   "cell_type": "markdown",
   "metadata": {},
   "source": [
    "### 스피어만, 피어슨 상관 계수의 차이점은 무엇일까???\n",
    "\n",
    "|계수|비선형적인 상관관계|ㄴㄴㄴ|\n",
    "|------|------|------|\n",
    "|스피어만| O | bb |\n",
    "|피어슨| X | bb |"
   ]
  },
  {
   "cell_type": "markdown",
   "metadata": {},
   "source": []
  }
 ],
 "metadata": {
  "kernelspec": {
   "display_name": "R",
   "language": "R",
   "name": "ir"
  },
  "language_info": {
   "codemirror_mode": "r",
   "file_extension": ".r",
   "mimetype": "text/x-r-source",
   "name": "R",
   "pygments_lexer": "r",
   "version": "3.4.1"
  }
 },
 "nbformat": 4,
 "nbformat_minor": 2
}
