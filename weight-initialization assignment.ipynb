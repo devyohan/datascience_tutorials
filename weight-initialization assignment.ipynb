{
 "cells": [
  {
   "cell_type": "code",
   "execution_count": 2,
   "metadata": {
    "collapsed": true
   },
   "outputs": [],
   "source": [
    "import numpy as np"
   ]
  },
  {
   "cell_type": "markdown",
   "metadata": {},
   "source": [
    "## Load Dataset"
   ]
  },
  {
   "cell_type": "code",
   "execution_count": 3,
   "metadata": {
    "collapsed": true
   },
   "outputs": [],
   "source": [
    "from sklearn.datasets import load_digits\n",
    "\n",
    "digits = load_digits()"
   ]
  },
  {
   "cell_type": "code",
   "execution_count": 4,
   "metadata": {},
   "outputs": [
    {
     "name": "stdout",
     "output_type": "stream",
     "text": [
      "(1797, 64)\n"
     ]
    },
    {
     "data": {
      "text/plain": [
       "array([[  0.,   0.,   5., ...,   0.,   0.,   0.],\n",
       "       [  0.,   0.,   0., ...,  10.,   0.,   0.],\n",
       "       [  0.,   0.,   0., ...,  16.,   9.,   0.],\n",
       "       ..., \n",
       "       [  0.,   0.,   1., ...,   6.,   0.,   0.],\n",
       "       [  0.,   0.,   2., ...,  12.,   0.,   0.],\n",
       "       [  0.,   0.,  10., ...,  12.,   1.,   0.]])"
      ]
     },
     "execution_count": 4,
     "metadata": {},
     "output_type": "execute_result"
    }
   ],
   "source": [
    "X = digits[\"data\"]\n",
    "\n",
    "print(X.shape)\n",
    "X"
   ]
  },
  {
   "cell_type": "markdown",
   "metadata": {},
   "source": [
    "### Visualize"
   ]
  },
  {
   "cell_type": "code",
   "execution_count": 8,
   "metadata": {},
   "outputs": [
    {
     "data": {
      "text/plain": [
       "<matplotlib.image.AxesImage at 0x1a12bd9c50>"
      ]
     },
     "execution_count": 8,
     "metadata": {},
     "output_type": "execute_result"
    },
    {
     "data": {
      "text/plain": [
       "<matplotlib.figure.Figure at 0x1a12107eb8>"
      ]
     },
     "metadata": {},
     "output_type": "display_data"
    },
    {
     "data": {
      "image/png": "[encoded data removed]",
      "text/plain": [
       "<matplotlib.figure.Figure at 0x1a12793a58>"
      ]
     },
     "metadata": {},
     "output_type": "display_data"
    }
   ],
   "source": [
    "%matplotlib inline\n",
    "import matplotlib.pyplot as plt\n",
    "\n",
    "plt.gray()\n",
    "\n",
    "figure, axes = plt.subplots(nrows=2, ncols=5)\n",
    "figure.set_size_inches(18, 8)\n",
    "\n",
    "axes[0][0].matshow(X[0].reshape(8, 8))\n",
    "axes[0][1].matshow(X[1].reshape(8, 8))\n",
    "axes[0][2].matshow(X[2].reshape(8, 8))\n",
    "axes[0][3].matshow(X[3].reshape(8, 8))\n",
    "axes[0][4].matshow(X[4].reshape(8, 8))\n",
    "axes[1][0].matshow(X[5].reshape(8, 8))\n",
    "axes[1][1].matshow(X[6].reshape(8, 8))\n",
    "axes[1][2].matshow(X[7].reshape(8, 8))\n",
    "axes[1][3].matshow(X[8].reshape(8, 8))\n",
    "axes[1][4].matshow(X[9].reshape(8, 8))"
   ]
  },
  {
   "cell_type": "code",
   "execution_count": 9,
   "metadata": {},
   "outputs": [
    {
     "name": "stdout",
     "output_type": "stream",
     "text": [
      "(1797,)\n"
     ]
    },
    {
     "data": {
      "text/plain": [
       "array([0, 1, 2, ..., 8, 9, 8])"
      ]
     },
     "execution_count": 9,
     "metadata": {},
     "output_type": "execute_result"
    }
   ],
   "source": [
    "y = digits[\"target\"]\n",
    "\n",
    "print(y.shape)\n",
    "y"
   ]
  },
  {
   "cell_type": "markdown",
   "metadata": {},
   "source": [
    "## Preprocessing"
   ]
  },
  {
   "cell_type": "code",
   "execution_count": 10,
   "metadata": {},
   "outputs": [
    {
     "data": {
      "text/plain": [
       "(8.995463126623417e-17, -4.8841645798553142, 11.115835420144686)"
      ]
     },
     "execution_count": 10,
     "metadata": {},
     "output_type": "execute_result"
    }
   ],
   "source": [
    "X_mean = X.mean()\n",
    "\n",
    "X_normalized = X - X_mean\n",
    "\n",
    "X_normalized.mean(), X_normalized.min(), X_normalized.max()"
   ]
  },
  {
   "cell_type": "code",
   "execution_count": 11,
   "metadata": {},
   "outputs": [
    {
     "name": "stderr",
     "output_type": "stream",
     "text": [
      "Using TensorFlow backend.\n",
      "/Users/shaynekang/anaconda3/lib/python3.6/importlib/_bootstrap.py:219: RuntimeWarning: compiletime version 3.5 of module 'tensorflow.python.framework.fast_tensor_util' does not match runtime version 3.6\n",
      "  return f(*args, **kwds)\n"
     ]
    },
    {
     "name": "stdout",
     "output_type": "stream",
     "text": [
      "(1797,) (1797, 10)\n"
     ]
    }
   ],
   "source": [
    "from keras.utils import to_categorical\n",
    "\n",
    "y_hot = to_categorical(y)\n",
    "\n",
    "print(y.shape, y_hot.shape)"
   ]
  },
  {
   "cell_type": "markdown",
   "metadata": {},
   "source": [
    "## Define Activation"
   ]
  },
  {
   "cell_type": "markdown",
   "metadata": {},
   "source": [
    "### Sigmoid"
   ]
  },
  {
   "cell_type": "code",
   "execution_count": 12,
   "metadata": {},
   "outputs": [
    {
     "data": {
      "text/plain": [
       "[<matplotlib.lines.Line2D at 0x1a1db09160>]"
      ]
     },
     "execution_count": 12,
     "metadata": {},
     "output_type": "execute_result"
    },
    {
     "data": {
      "image/png": "[encoded data removed]",
      "text/plain": [
       "<matplotlib.figure.Figure at 0x1a1dab8ba8>"
      ]
     },
     "metadata": {},
     "output_type": "display_data"
    }
   ],
   "source": [
    "def sigmoid(n):\n",
    "    return 1 / (1 + np.exp(-n))\n",
    "\n",
    "xx = np.linspace(start=-9, stop=+9)\n",
    "yy = sigmoid(xx)\n",
    "\n",
    "plt.plot(xx, yy)"
   ]
  },
  {
   "cell_type": "code",
   "execution_count": 13,
   "metadata": {},
   "outputs": [
    {
     "data": {
      "text/plain": [
       "[<matplotlib.lines.Line2D at 0x1a1dbc7518>]"
      ]
     },
     "execution_count": 13,
     "metadata": {},
     "output_type": "execute_result"
    },
    {
     "data": {
      "image/png": "[encoded data removed]",
      "text/plain": [
       "<matplotlib.figure.Figure at 0x1a1140d668>"
      ]
     },
     "metadata": {},
     "output_type": "display_data"
    }
   ],
   "source": [
    "def sigmoid_derivative(n):\n",
    "    return sigmoid(n) * (1 - sigmoid(n))\n",
    "\n",
    "xx = np.linspace(start=-9, stop=+9)\n",
    "yy = sigmoid_derivative(xx)\n",
    "\n",
    "plt.plot(xx, yy)"
   ]
  },
  {
   "cell_type": "markdown",
   "metadata": {},
   "source": [
    "### ReLU"
   ]
  },
  {
   "cell_type": "code",
   "execution_count": 15,
   "metadata": {},
   "outputs": [
    {
     "data": {
      "text/plain": [
       "[<matplotlib.lines.Line2D at 0x1a1dd40390>]"
      ]
     },
     "execution_count": 15,
     "metadata": {},
     "output_type": "execute_result"
    },
    {
     "data": {
      "image/png": "[encoded data removed]",
      "text/plain": [
       "<matplotlib.figure.Figure at 0x1a1dca0198>"
      ]
     },
     "metadata": {},
     "output_type": "display_data"
    }
   ],
   "source": [
    "def relu(n):\n",
    "    return n * (n > 0)\n",
    "\n",
    "xx = np.linspace(start=-9, stop=+9)\n",
    "yy = relu(xx)\n",
    "\n",
    "plt.plot(xx, yy)"
   ]
  },
  {
   "cell_type": "code",
   "execution_count": 16,
   "metadata": {},
   "outputs": [
    {
     "data": {
      "text/plain": [
       "[<matplotlib.lines.Line2D at 0x1a1dd99dd8>]"
      ]
     },
     "execution_count": 16,
     "metadata": {},
     "output_type": "execute_result"
    },
    {
     "data": {
      "image/png": "[encoded data removed]",
      "text/plain": [
       "<matplotlib.figure.Figure at 0x1a1dd55b70>"
      ]
     },
     "metadata": {},
     "output_type": "display_data"
    }
   ],
   "source": [
    "def relu_derivative(n):\n",
    "    return 1 * (n > 0)\n",
    "\n",
    "xx = np.linspace(start=-9, stop=+9)\n",
    "yy = relu_derivative(xx)\n",
    "\n",
    "plt.plot(xx, yy)"
   ]
  },
  {
   "cell_type": "markdown",
   "metadata": {},
   "source": [
    "## Build a Model"
   ]
  },
  {
   "cell_type": "markdown",
   "metadata": {},
   "source": [
    "### Small Random Number"
   ]
  },
  {
   "cell_type": "code",
   "execution_count": 17,
   "metadata": {},
   "outputs": [
    {
     "name": "stdout",
     "output_type": "stream",
     "text": [
      " 0 error = 0.88926\n",
      "10 error = 0.56316\n",
      "20 error = 0.37229\n",
      "30 error = 0.27991\n",
      "40 error = 0.22426\n",
      "50 error = 0.19699\n",
      "60 error = 0.17362\n",
      "70 error = 0.15136\n",
      "80 error = 0.13578\n",
      "90 error = 0.12688\n",
      "----------------------------------------\n",
      "99 error = 0.11853\n"
     ]
    }
   ],
   "source": [
    "from time import time\n",
    "\n",
    "num_epoch = 100\n",
    "learning_rate = 0.0001\n",
    "\n",
    "errors_default = []\n",
    "\n",
    "start = time()\n",
    "\n",
    "w1 = np.random.uniform(low=-1.0, high=1.0, size=(64, 100))\n",
    "w2 = np.random.uniform(low=-1.0, high=1.0, size=(100, 100))\n",
    "w3 = np.random.uniform(low=-1.0, high=1.0, size=(100, 10))\n",
    "\n",
    "b1 = np.zeros((1, 100))\n",
    "b2 = np.zeros((1, 100))\n",
    "b3 = np.zeros((1, 10))\n",
    "\n",
    "for epoch in range(num_epoch):\n",
    "    # Forward Propagation\n",
    "    z1 = X.dot(w1) + b1\n",
    "    a1 = sigmoid(z1)\n",
    "    z2 = a1.dot(w2) + b2\n",
    "    a2 = sigmoid(z2)\n",
    "    z3 = a2.dot(w3) + b3\n",
    "    a3 = sigmoid(z3)\n",
    "    \n",
    "    y_predict = np.argmax(a3, axis=1)\n",
    "    error = (y_predict != y).mean()\n",
    "    \n",
    "    if epoch % 10 == 0:\n",
    "        print(\"{0:2} error = {1:.5f}\".format(epoch, error))\n",
    "        \n",
    "    errors_default.append({\n",
    "        'epoch': epoch,\n",
    "        'elapsed': time() - start,\n",
    "        'error': error,\n",
    "    })\n",
    "\n",
    "    # Backpropagation\n",
    "    d3 = (a3 - y_hot)\n",
    "    d2 = d3.dot(w3.T) * sigmoid_derivative(z2)\n",
    "    d1 = d2.dot(w2.T) * sigmoid_derivative(z1)\n",
    "\n",
    "    w3 = w3 - learning_rate * a2.T.dot(d3)\n",
    "    b3 = b3 - learning_rate * d3.mean(axis=0)\n",
    "    \n",
    "    w2 = w2 - learning_rate * a1.T.dot(d2)\n",
    "    b2 = b2 - learning_rate * d2.mean(axis=0)\n",
    "\n",
    "    w1 = w1 - learning_rate * X.T.dot(d1)\n",
    "    b1 = b1 - learning_rate * d1.mean(axis=0)\n",
    "\n",
    "print(\"----\" * 10)\n",
    "print(\"{0:2} error = {1:.5f}\".format(epoch, error))"
   ]
  },
  {
   "cell_type": "code",
   "execution_count": 21,
   "metadata": {},
   "outputs": [
    {
     "data": {
      "text/plain": [
       "<matplotlib.legend.Legend at 0x1a1fe7be48>"
      ]
     },
     "execution_count": 21,
     "metadata": {},
     "output_type": "execute_result"
    },
    {
     "data": {
      "image/png": "[encoded data removed]",
      "text/plain": [
       "<matplotlib.figure.Figure at 0x1a1db2de10>"
      ]
     },
     "metadata": {},
     "output_type": "display_data"
    }
   ],
   "source": [
    "%matplotlib inline\n",
    "import matplotlib.pyplot as plt\n",
    "\n",
    "errors_default = pd.DataFrame(errors_default)\n",
    "\n",
    "plt.plot(errors_default['elapsed'],\n",
    "         errors_default['error'],\n",
    "         label=\"default\")\n",
    "\n",
    "plt.legend()"
   ]
  },
  {
   "cell_type": "markdown",
   "metadata": {
    "collapsed": true
   },
   "source": [
    "### Xavior Initialization"
   ]
  },
  {
   "cell_type": "code",
   "execution_count": 18,
   "metadata": {},
   "outputs": [
    {
     "name": "stdout",
     "output_type": "stream",
     "text": [
      " 0 error = 0.90262\n",
      "10 error = 0.42014\n",
      "20 error = 0.24096\n",
      "30 error = 0.16750\n",
      "40 error = 0.14246\n",
      "50 error = 0.12465\n",
      "60 error = 0.10740\n",
      "70 error = 0.09683\n",
      "80 error = 0.09015\n",
      "90 error = 0.08125\n",
      "----------------------------------------\n",
      "99 error = 0.07346\n"
     ]
    }
   ],
   "source": [
    "from time import time\n",
    "\n",
    "num_epoch = 100\n",
    "learning_rate = 0.0001\n",
    "\n",
    "errors_xavior = []\n",
    "\n",
    "start = time()\n",
    "\n",
    "w1 = np.random.uniform(low=-np.sqrt(6 / (64+100)),\n",
    "                       high=+np.sqrt(6 / (64+100)),\n",
    "                       size=(64, 100))\n",
    "\n",
    "w2 = np.random.uniform(low=-np.sqrt(6 / (100+100)),\n",
    "                       high=+np.sqrt(6 / (100+100)),\n",
    "                       size=(100, 100))\n",
    "\n",
    "w3 = np.random.uniform(low=-np.sqrt(6 / (100+10)),\n",
    "                       high=+np.sqrt(6 / (100+10)),\n",
    "                       size=(100, 10))\n",
    "\n",
    "b1 = np.zeros((1, 100))\n",
    "b2 = np.zeros((1, 100))\n",
    "b3 = np.zeros((1, 10))\n",
    "\n",
    "for epoch in range(num_epoch):\n",
    "    # Forward Propagation\n",
    "    z1 = X_normalized.dot(w1) + b1\n",
    "    a1 = sigmoid(z1)\n",
    "    z2 = a1.dot(w2) + b2\n",
    "    a2 = sigmoid(z2)\n",
    "    z3 = a2.dot(w3) + b3\n",
    "    a3 = sigmoid(z3)\n",
    "    \n",
    "    y_predict = np.argmax(a3, axis=1)\n",
    "    error = (y_predict != y).mean()\n",
    "\n",
    "    if epoch % 10 == 0:\n",
    "        print(\"{0:2} error = {1:.5f}\".format(epoch, error))\n",
    "        \n",
    "    errors_xavior.append({\n",
    "        'epoch': epoch,\n",
    "        'elapsed': time() - start,\n",
    "        'error': error,\n",
    "    })\n",
    "\n",
    "    # Backpropagation\n",
    "    d3 = (a3 - y_hot)\n",
    "    d2 = d3.dot(w3.T) * sigmoid_derivative(z2)\n",
    "    d1 = d2.dot(w2.T) * sigmoid_derivative(z1)\n",
    "\n",
    "    w3 = w3 - learning_rate * a2.T.dot(d3)\n",
    "    b3 = b3 - learning_rate * d3.mean(axis=0)\n",
    "    \n",
    "    w2 = w2 - learning_rate * a1.T.dot(d2)\n",
    "    b2 = b2 - learning_rate * d2.mean(axis=0)\n",
    "\n",
    "    w1 = w1 - learning_rate * X_normalized.T.dot(d1)\n",
    "    b1 = b1 - learning_rate * d1.mean(axis=0)\n",
    "\n",
    "print(\"----\" * 10)\n",
    "print(\"{0:2} error = {1:.5f}\".format(epoch, error))"
   ]
  },
  {
   "cell_type": "code",
   "execution_count": 20,
   "metadata": {},
   "outputs": [
    {
     "data": {
      "text/plain": [
       "<matplotlib.legend.Legend at 0x1a1fe556d8>"
      ]
     },
     "execution_count": 20,
     "metadata": {},
     "output_type": "execute_result"
    },
    {
     "data": {
      "image/png": "[encoded data removed]",
      "text/plain": [
       "<matplotlib.figure.Figure at 0x1a1deb2668>"
      ]
     },
     "metadata": {},
     "output_type": "display_data"
    }
   ],
   "source": [
    "%matplotlib inline\n",
    "import matplotlib.pyplot as plt\n",
    "\n",
    "errors_default = pd.DataFrame(errors_default)\n",
    "errors_xavior = pd.DataFrame(errors_xavior)\n",
    "\n",
    "plt.plot(errors_default['elapsed'],\n",
    "         errors_default['error'],\n",
    "         label=\"default\")\n",
    "\n",
    "plt.plot(errors_xavior['elapsed'],\n",
    "         errors_xavior['error'],\n",
    "         label=\"xavior\")\n",
    "\n",
    "plt.legend()"
   ]
  },
  {
   "cell_type": "markdown",
   "metadata": {
    "collapsed": true
   },
   "source": [
    "## ReLU"
   ]
  },
  {
   "cell_type": "code",
   "execution_count": null,
   "metadata": {
    "collapsed": true
   },
   "outputs": [],
   "source": [
    "### 여기에 ReLU와 그에 맞는 weight initialization을 사용한 코드를 넣어주시면 됩니다.\n",
    "### 이후 시각화를 통해 차이를 비교해주세요."
   ]
  },
  {
   "cell_type": "code",
   "execution_count": null,
   "metadata": {
    "collapsed": true
   },
   "outputs": [],
   "source": []
  },
  {
   "cell_type": "code",
   "execution_count": null,
   "metadata": {
    "collapsed": true
   },
   "outputs": [],
   "source": []
  }
 ],
 "metadata": {
  "kernelspec": {
   "display_name": "Python 3",
   "language": "python",
   "name": "python3"
  },
  "language_info": {
   "codemirror_mode": {
    "name": "ipython",
    "version": 3
   },
   "file_extension": ".py",
   "mimetype": "text/x-python",
   "name": "python",
   "nbconvert_exporter": "python",
   "pygments_lexer": "ipython3",
   "version": "3.6.3"
  }
 },
 "nbformat": 4,
 "nbformat_minor": 2
}
