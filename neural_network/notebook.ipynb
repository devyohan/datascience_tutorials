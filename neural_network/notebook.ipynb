{
 "cells": [
  {
   "cell_type": "markdown",
   "metadata": {},
   "source": [
    "# Neural network\n",
    "\n",
    "Basis function 도 parameter 값에 의해 변화할 수 있는 Adaptive basis function model."
   ]
  },
  {
   "cell_type": "markdown",
   "metadata": {},
   "source": [
    "## Perceptron\n",
    "판별 함수 기반 예측 모형 중 하나\n",
    "\n",
    "용어 정리\n"
   ]
  },
  {
   "cell_type": "markdown",
   "metadata": {},
   "source": [
    "| 단어 | 뜻 |\n",
    "|:-:|:-:|\n",
    "| 임계치(threshold) | 어떠한 값이 활성화되기 위한 최소값을 임계치라고 한다.|\n",
    "| 가중치(weight) | $w$. 퍼셉트론의 학습 목표는 학습 벡터를 두 부류로 선형 분류하기 위한 선형 경계를 찾는 것이다.|"
   ]
  },
  {
   "cell_type": "markdown",
   "metadata": {},
   "source": [
    "* threshold\n",
    "    * 어떠한 값이 활성화되기 위한 최소값을 임계치라고 한다.\n",
    "* weight\n",
    "    * $w$ . 퍼셉트론의 학습 목표는 학습 벡터를 두 부류로 선형 분류하기 위한 선형 경계를 찾는 것\n",
    "    * 가중치(weight)는 이러한 선형 경계의 방향성 또는 형태를 나타내는 값이다.\n",
    "* bias\n",
    "    * 선형 경계의 절편을 나타내는 값으로써, 직선의 경우는 $y$ 절편을 나타낸다.\n",
    "    * 절편 : $x$ 축과 $y$ 축의 점이 만나는 곳.\n",
    "* activation function\n",
    "    * 뉴런에서 계산된 net > threshold = 1\n",
    "    *             net < threshold = 0\n",
    "* neuron\n",
    "    * 인공 신경망을 구성하는 가장 작은 요소로써\n",
    "    * net > threshold = 활성화 되면서 1 출력\n",
    "    * net < threshold = 비활성화 되면서 0 출력\n",
    "    "
   ]
  }
 ],
 "metadata": {
  "kernelspec": {
   "display_name": "Python 2",
   "language": "python",
   "name": "python2"
  },
  "language_info": {
   "codemirror_mode": {
    "name": "ipython",
    "version": 2
   },
   "file_extension": ".py",
   "mimetype": "text/x-python",
   "name": "python",
   "nbconvert_exporter": "python",
   "pygments_lexer": "ipython2",
   "version": "2.7.13"
  }
 },
 "nbformat": 4,
 "nbformat_minor": 2
}
