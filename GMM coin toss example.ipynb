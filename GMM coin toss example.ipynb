{
 "cells": [
  {
   "cell_type": "markdown",
   "metadata": {},
   "source": [
    "# EM Algorithm\n",
    "\n",
    "latent variable 이 존재하는 probabilistic model 의 maximum likelihood 혹은 maximum aposterior 문제를 풀기 위한 알고리즘 중 하나이다. 굉장히 많은 probabilistic 모델을 풀기 위해 널리 사용되는 알고리즘 중 하나이며, iterative 한 알고리즘 중 하나이다. Clustering 에서 다뤘던 GMM 은 물론이고, HMM, RBM 등의 문제를 해결하는데 있어서도 사용되는 알고리즘이다."
   ]
  },
  {
   "cell_type": "code",
   "execution_count": 2,
   "metadata": {
    "ExecuteTime": {
     "end_time": "2018-01-06T10:52:38.334052Z",
     "start_time": "2018-01-06T10:52:38.330279Z"
    }
   },
   "outputs": [],
   "source": [
    "import numpy as np"
   ]
  },
  {
   "cell_type": "code",
   "execution_count": 3,
   "metadata": {
    "ExecuteTime": {
     "end_time": "2018-01-06T10:52:38.706227Z",
     "start_time": "2018-01-06T10:52:38.697870Z"
    }
   },
   "outputs": [
    {
     "data": {
      "text/plain": [
       "array([[5, 5],\n",
       "       [9, 1],\n",
       "       [8, 2],\n",
       "       [4, 6],\n",
       "       [7, 3]])"
      ]
     },
     "execution_count": 3,
     "metadata": {},
     "output_type": "execute_result"
    }
   ],
   "source": [
    "xs = np.array([(5,5), (9,1), (8,2), (4,6), (7,3)])\n",
    "xs"
   ]
  },
  {
   "cell_type": "code",
   "execution_count": 13,
   "metadata": {
    "ExecuteTime": {
     "end_time": "2018-01-06T10:57:57.247326Z",
     "start_time": "2018-01-06T10:57:57.240740Z"
    }
   },
   "outputs": [
    {
     "data": {
      "text/plain": [
       "array([[ 0.6,  0.4],\n",
       "       [ 0.5,  0.5]])"
      ]
     },
     "execution_count": 13,
     "metadata": {},
     "output_type": "execute_result"
    }
   ],
   "source": [
    "thetas = np.array([[0.6, 0.4], [0.5, 0.5]])\n",
    "thetas"
   ]
  },
  {
   "cell_type": "code",
   "execution_count": 14,
   "metadata": {
    "ExecuteTime": {
     "end_time": "2018-01-06T10:57:59.864118Z",
     "start_time": "2018-01-06T10:57:59.857229Z"
    }
   },
   "outputs": [
    {
     "data": {
      "text/plain": [
       "array([ 0.5,  0.5])"
      ]
     },
     "execution_count": 14,
     "metadata": {},
     "output_type": "execute_result"
    }
   ],
   "source": [
    "pis = np.array([0.5,0.5])\n",
    "pis"
   ]
  },
  {
   "cell_type": "code",
   "execution_count": 10,
   "metadata": {
    "ExecuteTime": {
     "end_time": "2018-01-06T10:57:08.158078Z",
     "start_time": "2018-01-06T10:57:08.153464Z"
    }
   },
   "outputs": [],
   "source": [
    "tol = 0.01\n",
    "max_iter = 100\n",
    "\n",
    "ll_old = 0"
   ]
  },
  {
   "cell_type": "code",
   "execution_count": 12,
   "metadata": {
    "ExecuteTime": {
     "end_time": "2018-01-06T10:57:31.084325Z",
     "start_time": "2018-01-06T10:57:30.985462Z"
    }
   },
   "outputs": [
    {
     "name": "stdout",
     "output_type": "stream",
     "text": [
      "Iteration: 1\n",
      "theta_A = 0.71, theta_B = 0.58, ll = -32.69\n",
      "Iteration: 2\n",
      "theta_A = 0.75, theta_B = 0.57, ll = -31.26\n",
      "Iteration: 3\n",
      "theta_A = 0.77, theta_B = 0.55, ll = -30.76\n",
      "Iteration: 4\n",
      "theta_A = 0.78, theta_B = 0.53, ll = -30.33\n",
      "Iteration: 5\n",
      "theta_A = 0.79, theta_B = 0.53, ll = -30.07\n",
      "Iteration: 6\n",
      "theta_A = 0.79, theta_B = 0.52, ll = -29.95\n",
      "Iteration: 7\n",
      "theta_A = 0.80, theta_B = 0.52, ll = -29.90\n",
      "Iteration: 8\n",
      "theta_A = 0.80, theta_B = 0.52, ll = -29.88\n",
      "Iteration: 9\n",
      "theta_A = 0.80, theta_B = 0.52, ll = -29.87\n"
     ]
    }
   ],
   "source": [
    "for i in range(max_iter):\n",
    "    \n",
    "    # 업데이트 하기 \n",
    "    ws_A = []\n",
    "    ws_B = []\n",
    "\n",
    "    vs_A = []\n",
    "    vs_B = []\n",
    "\n",
    "    ll_new = 0\n",
    "\n",
    "    for x in xs:\n",
    "\n",
    "        # multinomial (binomial) log likelihood\n",
    "        ll_A = np.sum([x*np.log(thetas[0])])\n",
    "        ll_B = np.sum([x*np.log(thetas[1])])\n",
    "\n",
    "        # [EQN 1]\n",
    "        denom = np.exp(ll_A) + np.exp(ll_B)\n",
    "        w_A = np.exp(ll_A)/denom\n",
    "        w_B = np.exp(ll_B)/denom\n",
    "\n",
    "        ws_A.append(w_A)\n",
    "        ws_B.append(w_B)\n",
    "\n",
    "        # used for calculating theta\n",
    "        vs_A.append(np.dot(w_A, x))\n",
    "        vs_B.append(np.dot(w_B, x))\n",
    "\n",
    "        # update complete log likelihood\n",
    "        ll_new += w_A * ll_A + w_B * ll_B\n",
    "\n",
    "    # M-step: update values for parameters given current distribution\n",
    "    # [EQN 2]\n",
    "    thetas[0] = np.sum(vs_A, 0)/np.sum(vs_A)\n",
    "    thetas[1] = np.sum(vs_B, 0)/np.sum(vs_B)\n",
    "    # print distribution of z for each x and current parameter estimate\n",
    "\n",
    "    print(\"Iteration: %d\" % (i+1))\n",
    "    print(\"theta_A = %.2f, theta_B = %.2f, ll = %.2f\" % (thetas[0,0], thetas[1,0], ll_new))\n",
    "\n",
    "    if np.abs(ll_new - ll_old) < tol:\n",
    "        break\n",
    "    ll_old = ll_new"
   ]
  },
  {
   "cell_type": "markdown",
   "metadata": {},
   "source": [
    "- https://mk-minchul.github.io/EM/\n",
    "- http://issactoast.com/130\n"
   ]
  },
  {
   "cell_type": "code",
   "execution_count": null,
   "metadata": {},
   "outputs": [],
   "source": []
  }
 ],
 "metadata": {
  "kernelspec": {
   "display_name": "Python 3",
   "language": "python",
   "name": "python3"
  },
  "language_info": {
   "codemirror_mode": {
    "name": "ipython",
    "version": 3
   },
   "file_extension": ".py",
   "mimetype": "text/x-python",
   "name": "python",
   "nbconvert_exporter": "python",
   "pygments_lexer": "ipython3",
   "version": "3.6.1"
  }
 },
 "nbformat": 4,
 "nbformat_minor": 2
}
