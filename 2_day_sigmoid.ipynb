{
 "cells": [
  {
   "cell_type": "markdown",
   "metadata": {},
   "source": [
    "## 두번째\n",
    "\n",
    "### Single-layer neural network for classification problem\n",
    "\n",
    "1회차에서는 Single-layer neural network를 활용해 Regression problem (우리가 예측하려는 값이 정수형이고, 그 높고 낮음을 예측하는 문제. 부동산이나 주식의 집값 예측 등)을 풀어보았습니다. 이번 회차에는 1회차에서 배운 내용을 응용하여, 예측하려는 값이 어느 분류에 속하는지를 판단하는 Classification problem (상품 카테고리 분류, 폐암의 양성/음성 여부 등)을 해결하는 Single-layer neural network를 구현합니다.\n",
    "\n",
    "이후 우편번호의 필기체 이미지를 정리한 MNIST 데이터셋을 활용하여, 이미지에 아무런 사전 처리(preprocessing)를 거치지 않은 채 픽셀과 RGB 값만 넣으면 그 안에 그려져 있는 숫자를 스스로 인식하는 숫자 인식 알고리즘을 Single-layer neural network로 구현합니다."
   ]
  },
  {
   "cell_type": "code",
   "execution_count": 1,
   "metadata": {
    "collapsed": false
   },
   "outputs": [
    {
     "name": "stderr",
     "output_type": "stream",
     "text": [
      "/Users/ticonweb/anaconda2/envs/py36/lib/python3.6/site-packages/matplotlib/font_manager.py:279: UserWarning: Matplotlib is building the font cache using fc-list. This may take a moment.\n",
      "  'Matplotlib is building the font cache using fc-list. '\n"
     ]
    }
   ],
   "source": [
    "import numpy as np\n",
    "import matplotlib.pyplot as plt"
   ]
  },
  {
   "cell_type": "markdown",
   "metadata": {},
   "source": [
    "## Generate dataset\n",
    "\n",
    "실험하기 유용한 데이터셋"
   ]
  },
  {
   "cell_type": "code",
   "execution_count": 4,
   "metadata": {
    "collapsed": false
   },
   "outputs": [
    {
     "name": "stdout",
     "output_type": "stream",
     "text": [
      "(100,)\n",
      "[ 0.8559826  -0.33229889 -0.55853483 -0.36631809  0.15906325  0.56652452\n",
      " -0.98537142 -0.85450743  0.51954957  0.56637136]\n"
     ]
    }
   ],
   "source": [
    "x1 = np.random.uniform(low=-1.0, high=1.0, size=100)\n",
    "\n",
    "print(x1.shape)\n",
    "print(x1[0:10])"
   ]
  },
  {
   "cell_type": "code",
   "execution_count": 5,
   "metadata": {
    "collapsed": false
   },
   "outputs": [
    {
     "name": "stdout",
     "output_type": "stream",
     "text": [
      "(100,)\n",
      "[-0.38504932  0.40406128 -0.00647433 -0.17923855  0.75648195 -0.90350251\n",
      "  0.56187899  0.0146957   0.19397852  0.17752021]\n"
     ]
    }
   ],
   "source": [
    "x2 = np.random.uniform(low=-1.0, high=1.0, size=100)\n",
    "\n",
    "print(x2.shape)\n",
    "print(x2[0:10])"
   ]
  },
  {
   "cell_type": "code",
   "execution_count": 8,
   "metadata": {
    "collapsed": false
   },
   "outputs": [
    {
     "name": "stdout",
     "output_type": "stream",
     "text": [
      "(100,)\n",
      "[ 0.20845563  0.24652648 -0.02661211 -0.05532919  0.57014546 -0.13760839\n",
      "  0.12951357 -0.10481887  0.39703964  0.40285702]\n"
     ]
    }
   ],
   "source": [
    "y = x1 * 0.3 + x2 * 0.5 + 0.1 + (np.random.uniform(low=-1.0, high=1.0) * 0.05)\n",
    "\n",
    "print(y.shape)\n",
    "print(y[0:10])"
   ]
  },
  {
   "cell_type": "code",
   "execution_count": 12,
   "metadata": {
    "collapsed": false
   },
   "outputs": [],
   "source": [
    "y = y >= 0.0\n",
    "\n",
    "# True : 1, False : 0"
   ]
  },
  {
   "cell_type": "code",
   "execution_count": 13,
   "metadata": {
    "collapsed": false
   },
   "outputs": [
    {
     "data": {
      "image/png": "[encoded data removed]",
      "text/plain": [
       "<matplotlib.figure.Figure at 0x112b6e278>"
      ]
     },
     "metadata": {},
     "output_type": "display_data"
    }
   ],
   "source": [
    "plt.scatter(x1, x2, c=y)\n",
    "plt.show()"
   ]
  },
  {
   "cell_type": "markdown",
   "metadata": {},
   "source": [
    "위 문제를 풀어보는 것이 문제"
   ]
  },
  {
   "cell_type": "markdown",
   "metadata": {},
   "source": [
    "### Gradient Descent"
   ]
  },
  {
   "cell_type": "code",
   "execution_count": 14,
   "metadata": {
    "collapsed": true
   },
   "outputs": [],
   "source": [
    "# 시그모이드 함수 생성\n",
    "\n",
    "def sigmoid(n):\n",
    "    return 1 / (1 + np.exp(-n))\n"
   ]
  },
  {
   "cell_type": "code",
   "execution_count": 15,
   "metadata": {
    "collapsed": false
   },
   "outputs": [
    {
     "name": "stdout",
     "output_type": "stream",
     "text": [
      "0.000123394575986\n",
      "0.5\n",
      "0.999876605424\n"
     ]
    }
   ],
   "source": [
    "print(sigmoid(-9))\n",
    "print(sigmoid(0))\n",
    "print(sigmoid(9))"
   ]
  },
  {
   "cell_type": "code",
   "execution_count": 17,
   "metadata": {
    "collapsed": false
   },
   "outputs": [
    {
     "data": {
      "text/plain": [
       "array([-10.        ,  -9.59183673,  -9.18367347,  -8.7755102 ,\n",
       "        -8.36734694,  -7.95918367,  -7.55102041,  -7.14285714,\n",
       "        -6.73469388,  -6.32653061,  -5.91836735,  -5.51020408,\n",
       "        -5.10204082,  -4.69387755,  -4.28571429,  -3.87755102,\n",
       "        -3.46938776,  -3.06122449,  -2.65306122,  -2.24489796,\n",
       "        -1.83673469,  -1.42857143,  -1.02040816,  -0.6122449 ,\n",
       "        -0.20408163,   0.20408163,   0.6122449 ,   1.02040816,\n",
       "         1.42857143,   1.83673469,   2.24489796,   2.65306122,\n",
       "         3.06122449,   3.46938776,   3.87755102,   4.28571429,\n",
       "         4.69387755,   5.10204082,   5.51020408,   5.91836735,\n",
       "         6.32653061,   6.73469388,   7.14285714,   7.55102041,\n",
       "         7.95918367,   8.36734694,   8.7755102 ,   9.18367347,\n",
       "         9.59183673,  10.        ])"
      ]
     },
     "execution_count": 17,
     "metadata": {},
     "output_type": "execute_result"
    }
   ],
   "source": [
    "xx = np.linspace(start=-10.0, stop=+10.0)\n",
    "# -10 부터 10까지의 거의 모든 값을 평등하게\n",
    "xx"
   ]
  },
  {
   "cell_type": "code",
   "execution_count": 18,
   "metadata": {
    "collapsed": false
   },
   "outputs": [
    {
     "data": {
      "image/png": "[encoded data removed]",
      "text/plain": [
       "<matplotlib.figure.Figure at 0x112513320>"
      ]
     },
     "metadata": {},
     "output_type": "display_data"
    }
   ],
   "source": [
    "yy = sigmoid(xx)\n",
    "plt.plot(xx, yy)\n",
    "plt.show()"
   ]
  },
  {
   "cell_type": "markdown",
   "metadata": {},
   "source": [
    "여기까지 시그모이드 완성!!!"
   ]
  },
  {
   "cell_type": "markdown",
   "metadata": {},
   "source": [
    "#### Gradient descent sigmoid classification problem 구현!!"
   ]
  },
  {
   "cell_type": "code",
   "execution_count": 21,
   "metadata": {
    "collapsed": false
   },
   "outputs": [
    {
     "name": "stdout",
     "output_type": "stream",
     "text": [
      " 0 error = 0.29000\n",
      "10 error = 0.09000\n",
      "20 error = 0.03000\n",
      "--------------------------------------------------\n",
      "28 error = 0.00000\n"
     ]
    }
   ],
   "source": [
    "num_epoch = 100\n",
    "\n",
    "w1 = np.random.uniform(low=0.0, high=1.0)\n",
    "w2 = np.random.uniform(low=0.0, high=1.0)\n",
    "b = np.random.uniform(low=0.0, high=1.0)\n",
    "\n",
    "for epoch in range(num_epoch):\n",
    "    # 스쿼싱 하기\n",
    "    y_predict = x1 * w1 + x2 * w2 + b\n",
    "    y_predict = sigmoid(y_predict)\n",
    "    \n",
    "    \n",
    "    # 0, 1 확률을 알고 싶다면 아래 코드를 주석!!\n",
    "    predict = (y_predict >= 0.5)\n",
    "    actual = y\n",
    "    \n",
    "    error = (predict != actual).mean()\n",
    "    if error < 0.01:\n",
    "        break\n",
    "        \n",
    "    if epoch % 10 == 0:\n",
    "        print(\"{0:2} error = {1:.5f}\".format(epoch, error))\n",
    "    \n",
    "    # w1, w2 업데이트\n",
    "    w1 = w1 - ((y_predict - y) * x1).mean()\n",
    "    w2 = w2 - ((y_predict - y) * x2).mean()\n",
    "    b = b - (y_predict - y).mean()\n",
    "    \n",
    "print(\"-----\" * 10)\n",
    "print(\"{0:2} error = {1:.5f}\".format(epoch, error))"
   ]
  },
  {
   "cell_type": "code",
   "execution_count": null,
   "metadata": {
    "collapsed": true
   },
   "outputs": [],
   "source": [
    "시그모이드는 0이나 1로 나오지 않기 때문에 0.5 을 기준으로 T, F 로 정한다."
   ]
  },
  {
   "cell_type": "markdown",
   "metadata": {},
   "source": [
    "시그모이드의 장점\n",
    "\n",
    "- 0, 1 스쿼싱도 해준다.\n",
    "- 그리고 위 0, 1 의 확률도 알 수 있다."
   ]
  },
  {
   "cell_type": "code",
   "execution_count": 22,
   "metadata": {
    "collapsed": false
   },
   "outputs": [
    {
     "data": {
      "text/plain": [
       "(2.0329725769915963, 2.5334671729745364, 0.89127675263960937)"
      ]
     },
     "execution_count": 22,
     "metadata": {},
     "output_type": "execute_result"
    }
   ],
   "source": [
    "w1, w2, b\n",
    "\n",
    "# 왜 0.3, 0.5, 0.1 이 아닌가요???"
   ]
  },
  {
   "cell_type": "code",
   "execution_count": 25,
   "metadata": {
    "collapsed": false
   },
   "outputs": [
    {
     "data": {
      "text/html": [
       "<div>\n",
       "<style scoped>\n",
       "    .dataframe tbody tr th:only-of-type {\n",
       "        vertical-align: middle;\n",
       "    }\n",
       "\n",
       "    .dataframe tbody tr th {\n",
       "        vertical-align: top;\n",
       "    }\n",
       "\n",
       "    .dataframe thead th {\n",
       "        text-align: right;\n",
       "    }\n",
       "</style>\n",
       "<table border=\"1\" class=\"dataframe\">\n",
       "  <thead>\n",
       "    <tr style=\"text-align: right;\">\n",
       "      <th></th>\n",
       "      <th>x1</th>\n",
       "      <th>x2</th>\n",
       "      <th>y(actual)</th>\n",
       "      <th>y(predict)</th>\n",
       "    </tr>\n",
       "  </thead>\n",
       "  <tbody>\n",
       "    <tr>\n",
       "      <th>0</th>\n",
       "      <td>0.855983</td>\n",
       "      <td>-0.385049</td>\n",
       "      <td>True</td>\n",
       "      <td>True</td>\n",
       "    </tr>\n",
       "    <tr>\n",
       "      <th>1</th>\n",
       "      <td>-0.332299</td>\n",
       "      <td>0.404061</td>\n",
       "      <td>True</td>\n",
       "      <td>True</td>\n",
       "    </tr>\n",
       "    <tr>\n",
       "      <th>2</th>\n",
       "      <td>-0.558535</td>\n",
       "      <td>-0.006474</td>\n",
       "      <td>False</td>\n",
       "      <td>False</td>\n",
       "    </tr>\n",
       "    <tr>\n",
       "      <th>3</th>\n",
       "      <td>-0.366318</td>\n",
       "      <td>-0.179239</td>\n",
       "      <td>False</td>\n",
       "      <td>False</td>\n",
       "    </tr>\n",
       "    <tr>\n",
       "      <th>4</th>\n",
       "      <td>0.159063</td>\n",
       "      <td>0.756482</td>\n",
       "      <td>True</td>\n",
       "      <td>True</td>\n",
       "    </tr>\n",
       "  </tbody>\n",
       "</table>\n",
       "</div>"
      ],
      "text/plain": [
       "         x1        x2  y(actual)  y(predict)\n",
       "0  0.855983 -0.385049       True        True\n",
       "1 -0.332299  0.404061       True        True\n",
       "2 -0.558535 -0.006474      False       False\n",
       "3 -0.366318 -0.179239      False       False\n",
       "4  0.159063  0.756482       True        True"
      ]
     },
     "execution_count": 25,
     "metadata": {},
     "output_type": "execute_result"
    }
   ],
   "source": [
    "import pandas as pd\n",
    "\n",
    "y_predict = x1 * w1 + x2 * w2 + b\n",
    "y_predict = sigmoid(y_predict)\n",
    "\n",
    "predict = (y_predict >= 0.5)\n",
    "\n",
    "pd.DataFrame({'x1': x1, 'x2': x2, 'y(actual)': y, 'y(predict)': predict}).head()"
   ]
  },
  {
   "cell_type": "code",
   "execution_count": 26,
   "metadata": {
    "collapsed": true
   },
   "outputs": [],
   "source": [
    "# Decision boundary 그리기\n",
    "\n",
    "xxx = np.linspace(start=-1.0, stop=1.0)\n",
    "yyy = -1.0 * (w1 * xxx + b) / w2"
   ]
  },
  {
   "cell_type": "code",
   "execution_count": 27,
   "metadata": {
    "collapsed": false
   },
   "outputs": [
    {
     "data": {
      "image/png": "[encoded data removed]",
      "text/plain": [
       "<matplotlib.figure.Figure at 0x1129a1f28>"
      ]
     },
     "metadata": {},
     "output_type": "display_data"
    }
   ],
   "source": [
    "plt.plot(xxx, yyy)\n",
    "plt.scatter(x1, x2, c=y)\n",
    "plt.show()\n",
    "\n",
    "# Decision boundary 그리기"
   ]
  },
  {
   "cell_type": "code",
   "execution_count": null,
   "metadata": {
    "collapsed": true
   },
   "outputs": [],
   "source": []
  }
 ],
 "metadata": {
  "kernelspec": {
   "display_name": "Python 3",
   "language": "python",
   "name": "python3"
  },
  "language_info": {
   "codemirror_mode": {
    "name": "ipython",
    "version": 3
   },
   "file_extension": ".py",
   "mimetype": "text/x-python",
   "name": "python",
   "nbconvert_exporter": "python",
   "pygments_lexer": "ipython3",
   "version": "3.6.1"
  }
 },
 "nbformat": 4,
 "nbformat_minor": 2
}
